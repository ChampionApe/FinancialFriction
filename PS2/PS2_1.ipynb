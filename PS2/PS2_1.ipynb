{
 "cells": [
  {
   "cell_type": "markdown",
   "metadata": {},
   "source": [
    "# PS2, part 1: Welfare effects of capital injection"
   ]
  },
  {
   "cell_type": "markdown",
   "metadata": {},
   "source": [
    "Import packages, classes and settings:"
   ]
  },
  {
   "cell_type": "code",
   "execution_count": 1,
   "metadata": {},
   "outputs": [],
   "source": [
    "import sys\n",
    "import numpy as np\n",
    "import math\n",
    "import itertools\n",
    "from scipy import optimize\n",
    "import scipy.stats as stats\n",
    "import PS2 as func\n",
    "# For plots:\n",
    "import matplotlib.pyplot as plt\n",
    "import matplotlib as mpl\n",
    "%matplotlib inline\n",
    "plt.style.use('seaborn-whitegrid')\n",
    "mpl.style.use('seaborn')\n",
    "prop_cycle = plt.rcParams[\"axes.prop_cycle\"]\n",
    "colors = prop_cycle.by_key()[\"color\"]\n",
    "import ipywidgets as widgets\n",
    "from ipywidgets import interact, interact_manual"
   ]
  },
  {
   "cell_type": "markdown",
   "metadata": {},
   "source": [
    "## The Setup:"
   ]
  },
  {
   "cell_type": "markdown",
   "metadata": {},
   "source": [
    "The exercise consists of the core setup:\n",
    "* Two periods, $t=0,1$,\n",
    "* Two types of agents: Consumers and entrepreneurs. \n",
    "* **Consumers:**\n",
    "    * Linear utility $u_c = c_0^c+c_1^c$.\n",
    "    * Large endowment of consumption goods in each period: $e$. \n",
    "    * Labor endowment of $e_l=1$. Inelastically supplied in a competitive labor market at the price $w_1$.\n",
    "* **Entrepreneurs:**\n",
    "    * Linear utility $u_e = c_0^e+c_1^e$.\n",
    "    * Small endowment $n_0$ in period 0. \n",
    "    * Borrow $b_1$, invest in capital $k_1$. \n",
    "    * Period 1 they hire labor $l_1$ at wage $w_1$.\n",
    "    * Entrepreneurs utilize capital and labor in $t=1$ with Cobb-Douglas production function \n",
    "    $$ \\begin{align} \n",
    "    y_1 = k_1^{\\alpha}l_1^{1-\\alpha} \\notag\n",
    "    \\end{align} $$\n",
    "    * **Entrepreneurs are borrowing constrained:**\n",
    "    $$\\begin{align} \n",
    "    b_1\\leq \\lambda \\left(y_1-w_1l_1\\right), && \\lambda\\in (0,1) \\notag\n",
    "    \\end{align} $$\n",
    "* Assume that endowment of consumption goods $(e)$ is *sufficiently* large, for the interest rate to be 1 in equilibrium. (We will show what *sufficiently* means here)."
   ]
  },
  {
   "cell_type": "markdown",
   "metadata": {},
   "source": [
    "## Q1: Three parts. (i) State the entrepreneur's problem. (ii) Argue that entrepreneurs will choose to maximize profits in period 1, a linear function of $k_1$, and (3) restate entrepreneur's problem as a simple linear problem."
   ]
  },
  {
   "cell_type": "markdown",
   "metadata": {},
   "source": [
    "### (i) Entrepreneur problem:"
   ]
  },
  {
   "cell_type": "markdown",
   "metadata": {},
   "source": [
    "Interpret bullets from **entrepreneurs** above as a problem:\n",
    "\n",
    "$$\n",
    "\\begin{align}\n",
    "    \\max_{c_0,c_1,k_1,l_1,y_1,b_1} \\mbox{ } c_0+c_1,& \\notag \\\\ \n",
    "    \\text{s.t. }\\mbox{ }c_0+k_1 &= n_0+b_1 \\notag \\\\  \n",
    "                        c_1+b_1 &= y_1-w_1l_1 \\tag{Problem 1}\\\\ \n",
    "                            y_1 &= k_1^{\\alpha}l_1^{1-\\alpha} \\notag \\\\ \n",
    "                            b_1\\leq &\\lambda \\left(y_1-w_1l_1\\right) \\notag\n",
    "\\end{align}$$"
   ]
  },
  {
   "cell_type": "markdown",
   "metadata": {},
   "source": [
    "States that:\n",
    "1. Maximize consumption (risk-neutrality).\n",
    "2. Budget $t=0$: Consumption $(c_0)$ and investment $(k_1)$ equals income from endowment $(n_0)$ and borrowing $(b_1)$.\n",
    "3. Budget $t=1$: Consumption $(c_1)$ and repayment of debt $(b_1)$ equals income from production $(y_1)$ minues wages $(w_1l_1)$.\n",
    "4. Production is Cobb-Douglas.\n",
    "5. Entrepreneur is credit-constrained, with $\\lambda$ denoting the degree of future profits that can be used as collateral.\n",
    "\n",
    "Substitute for $c_0$ and $c_1$ into the utility function, using the budgets for $t=0,1$:\n",
    "\n",
    "$$\\begin{align} \n",
    "    c_0+c_1 &= n_0+b_1-k_1+y_1-w_1l_1-b_1 \\\\ \n",
    "            &= n_0+y_1-k_1-w_1l_1 \n",
    "\\end{align}$$\n",
    "\n",
    "Substitue for $y_1$ using the Cobb-Douglas function (remember you should substitute for $y_1$ in both the object function **and** the constraints). The problem is then reduced to:\n",
    "\n",
    "$$\\begin{align}\n",
    "    \\max_{k_1,l_1,b_1} n_0+k_1^{\\alpha}l_1^{1-\\alpha}-k_1-w_1l_1, && s.t. b_1\\leq \\lambda \\left(k_1^{\\alpha}l_1^{1-\\alpha}-w_1l_1\\right). \\tag{Problem 2}\n",
    "\\end{align}$$ \n",
    "\n",
    "The Lagrangian function corresponding to this problem is then given by:\n",
    "\n",
    "$$\\begin{align} \n",
    "    \\mathcal{L}_2 = n_0+k_1^{\\alpha}l_1^{1-\\alpha}-k_1-w_1l_1+\\mu\\left[\\lambda\\left(k_1^{\\alpha}l_1^{1-\\alpha}-w_1l_1\\right)-b_1\\right],\n",
    "\\end{align}$$\n",
    "\n",
    "where $\\mu\\geq0$ is the shadow-variable related to the credit-constraint. As in problem set, exercise 3.5 in (JT), this problem is characterized by a set of first order conditions with Karush-Kuhn-Tucker conditions for $\\mu$ and the credit constraint. This is because of the inequality constraint (instead of standard Lagrangian approach when the constraint is with \"=\").\n"
   ]
  },
  {
   "cell_type": "markdown",
   "metadata": {},
   "source": [
    "### (ii) Optimal choice of labor:"
   ]
  },
  {
   "cell_type": "markdown",
   "metadata": {},
   "source": [
    "Note that profits in $t=1$ is given by:\n",
    "\n",
    "$$\\begin{align}\n",
    "    \\pi_1 = k_1^{\\alpha}l_1^{1-\\alpha}-w_1l_1.\n",
    "\\end{align}$$\n",
    "\n",
    "Optimal choice of labor $(l^*)$ is then characterized by:\n",
    "\n",
    "$$\\begin{align}\n",
    "    \\dfrac{\\partial \\mathcal{L}}{\\partial l_1} = (1-\\alpha)k_1^{\\alpha}l_1^{-\\alpha} -w_1 + \\mu\\lambda\\left[(1-\\alpha)k_1^{\\alpha}l_1^{-\\alpha}-w_1\\right] = 0\n",
    "\\end{align}$$\n",
    "\n",
    "We can rewrite this condition as:\n",
    "\n",
    "$$\\begin{align}\n",
    "    \\left[(1-\\alpha)k_1^{\\alpha}l_1^{-\\alpha}-w_1\\right](1+\\mu\\lambda)=0 && \\Rightarrow && w_1 = (1-\\alpha)k_1^{\\alpha}l_1^{-\\alpha}\n",
    "\\end{align}$$\n",
    "\n",
    "Note that this corresponds to maximizing $\\pi_1$ wrt. labor. Note further that we can use this to write up two other terms:\n",
    "\n",
    "$$\\begin{align} \n",
    "w_1l_1^* = (1-\\alpha)k_1^{\\alpha}(l_1^*)^{1-\\alpha}, \\tag{Labor Share}\n",
    "\\end{align}$$ \n",
    "\n",
    "and by isolating for $l_1$:\n",
    "\n",
    "$$\\begin{align}\n",
    "    l_1^* = \\dfrac{(1-\\alpha)^{1/\\alpha}k_1}{w_1^{1/\\alpha}}. \\tag{$l^*$}\n",
    "\\end{align}$$\n",
    "\n",
    "To show that the profit function is linear in $k_1$, when labor is chosen optimally, start by using (Labor Share):\n",
    "\n",
    "$$\\begin{align}\n",
    "    \\pi_1(l=l^*) &= k_1^{\\alpha}(l_1^*)^{1-\\alpha}-w_1l_1^* \\notag \\\\\n",
    "                 &= \\alpha k_1^{\\alpha}(l_1^*)^{1-\\alpha}\n",
    "\\end{align}$$\n",
    "\n",
    "Now substitute for $(l^*)$:\n",
    "\n",
    "$$\\begin{align}\n",
    "    \\pi_1(l=l^*) &= \\alpha k_1^{\\alpha}\\dfrac{(1-\\alpha)^{(1-\\alpha)/\\alpha}k_1^{1-\\alpha}}{w_1^{(1-\\alpha)/\\alpha}} \\notag \\\\ \n",
    "                 &= \\underbrace{\\dfrac{\\alpha (1-\\alpha)^{(1-\\alpha)/\\alpha}}{w_1^{(1-\\alpha)/\\alpha}}}_{\\equiv R(w_1)}k_1 \\tag{Profit}\n",
    "\\end{align}$$\n",
    "\n",
    "\n",
    "\n",
    "\n",
    "\n"
   ]
  },
  {
   "cell_type": "markdown",
   "metadata": {},
   "source": [
    "### (iii) Restate as linear problem:"
   ]
  },
  {
   "cell_type": "markdown",
   "metadata": {},
   "source": [
    "Using (Profit) in (Problem 2):\n",
    "\n",
    "$$\\begin{align}\n",
    "    \\max_{k_1,b_1}\\mbox{ }n_0-k_1+R(w_1)k_1, && \\text{s.t. } b_1\\leq \\lambda R(w_1)k_1 \\tag{Problem 3}.\n",
    "\\end{align} $$"
   ]
  },
  {
   "cell_type": "markdown",
   "metadata": {},
   "source": [
    "## Q2: Derive entrepreneur's demand for capital, and argue how the solution depends on $\\lambda$ and $R(w_1)$."
   ]
  },
  {
   "cell_type": "markdown",
   "metadata": {},
   "source": [
    "Problem $3$ is linear in $k_1$. Thus capital demand depends on:\n",
    "\n",
    "* If $R(w_1)<1$: Investment in capital is not profitable, $k_1^*=0$. (it is implicitly assumed that $k\\geq0$)\n",
    "* If $\\lambda R(w_1)>1$: Investment in capital is so profitable that borrowing constraint never binds, $k_1^*=\\infty$.\n",
    "* If $\\lambda R(w_1)<1<R(w_1)$: Capital is postponed as much as possible, but borrowing constraint will bind. Solution is then to set $c_0=0$ in the budget at $t=0$, and use that $b_1$ is determined by the borrowing constraint:\n",
    "\n",
    "$$\\begin{align} \n",
    "    k_1^* &= n_0 +b_1 \\\\\n",
    "          &= n_0+\\lambda R(w_1)k_1^* \\\\ \n",
    "\\Rightarrow k_1^* &= \\dfrac{n_0}{1-\\lambda R(w_1)}\n",
    "\\end{align}$$\n",
    "\n",
    "* Finally, if $R(w_1)=1$ the entrepreneur is indifferent between consumption and investment. In this case capital demand is indeterminate:\n",
    "$$\\begin{align}\n",
    "    k_1^*\\in\\left[0,\\mbox{ }\\dfrac{n_0}{1-\\lambda}\\right].\n",
    "\\end{align}$$"
   ]
  },
  {
   "cell_type": "markdown",
   "metadata": {},
   "source": [
    "**Illustrating demand for capital, and equilibrium capital**:\n",
    "\n",
    "Before we proceed to the next questions, let us briefly illustrate how capital demand looks like, and how it behaves in equilibrium. The following illustrates the demand for capital for varying parameter values, and the interest rate function $R(w)=\\alpha k^{\\alpha-1}$."
   ]
  },
  {
   "cell_type": "code",
   "execution_count": 2,
   "metadata": {},
   "outputs": [
    {
     "data": {
      "application/vnd.jupyter.widget-view+json": {
       "model_id": "223fc0122f8c4014a26d702d3f8f5e92",
       "version_major": 2,
       "version_minor": 0
      },
      "text/plain": [
       "interactive(children=(SelectionSlider(description='Endowment, $n$', options=(0.0, 0.02, 0.04, 0.06, 0.08, 0.1,…"
      ]
     },
     "metadata": {},
     "output_type": "display_data"
    }
   ],
   "source": [
    "Model = func.TwoAgent_GE()\n",
    "Model.plot_interactive_ds()"
   ]
  },
  {
   "cell_type": "markdown",
   "metadata": {},
   "source": [
    "## Q3: Show the cutoff $n^*$, where $n_0 \\geq n^*$$ implies that the first-best level of capital can be financed, and the borrowing constraint is not binding."
   ]
  },
  {
   "cell_type": "markdown",
   "metadata": {},
   "source": [
    "Let us define the first-best level of capital. Recall that in equilibrium $l_1=1$ (as this is the endowment supplied by consumers). Define first-best as **the level of capital that maximizes net output**:\n",
    "\n",
    "$$\\begin{align} \n",
    "    \\max_{k_1} k_1^{\\alpha}-k_1 && \\Rightarrow && k_1^{fb} = \\alpha^{1/(1-\\alpha)}.\n",
    "\\end{align}$$\n",
    "\n",
    "In equilibrium the interest rate $R(w_1)$ is defined by the marginal product of capital:\n",
    "\n",
    "$$\\begin{align}\n",
    "    R(w_1) = \\alpha k_1^{\\alpha-1}, && \\Rightarrow && k_1 = \\left(\\dfrac{\\alpha}{R(w_1)}\\right)^{1/(1-\\alpha)}\n",
    "\\end{align}$$\n",
    "\n",
    "Thus for $k_1=k_1^{fb}$ we need $R(w_1)=1$. When $R(w_1)=1$ the capital demand was indeterminate, i.e. it covered a range of possible solutions. The optimal level $k_1^{fb}$ is one of the feasible capital demand levels as long as:\n",
    "\n",
    "$$\\begin{align}\n",
    "k_1^{fb}\\equiv \\alpha^{1/(1-\\alpha)}\\in\\left[0,\\mbox{ }\\dfrac{n_0}{1-\\lambda}\\right]. \n",
    "\\end{align}$$\n",
    "\n",
    "As long as $n_0$ is sufficiently large the first best is thus an equilibrium. The threshold $n^*$ where the first best is an equilibrium for $n_0\\geq n^*$ is then given by the condition above with equality:\n",
    "\n",
    "$$\\begin{align}\n",
    "    \\alpha^{1/(1-\\alpha)} = \\dfrac{n^*}{1-\\lambda} && \\Rightarrow && n^* = (1-\\lambda)\\alpha^{1/(1-\\alpha)} \n",
    "\\end{align}$$\n",
    "\n",
    "\n",
    "\n",
    "**Addtional remark:** Give another explanation for why we need R=1 for optimality:\n",
    "\n",
    "Optimality requires that the $\\color{blue}{\\text{marginal rate of transformation}}$ equals $\\color{blue}{\\text{the marginal rate of substitution}}$"
   ]
  },
  {
   "cell_type": "markdown",
   "metadata": {},
   "source": [
    "**Plotting the equilibrium function:**"
   ]
  },
  {
   "cell_type": "code",
   "execution_count": 3,
   "metadata": {},
   "outputs": [
    {
     "data": {
      "application/vnd.jupyter.widget-view+json": {
       "model_id": "c3c2989340b74a74b91b048923ce2dfe",
       "version_major": 2,
       "version_minor": 0
      },
      "text/plain": [
       "interactive(children=(SelectionSlider(description='Borrowing constr., $\\\\lambda$', options=(0.0, 0.04, 0.08, 0…"
      ]
     },
     "metadata": {},
     "output_type": "display_data"
    }
   ],
   "source": [
    "Model.plot_interactive_cequi()"
   ]
  },
  {
   "cell_type": "markdown",
   "metadata": {},
   "source": [
    "## Q4: Show that if n<n* there is an equilibrium where the entrepreneurs are constrained and $k_1$ becomes an increasing function of $n_0$."
   ]
  },
  {
   "cell_type": "markdown",
   "metadata": {},
   "source": [
    "* **Capital demand:** Recall that when $n_0<n^*$ the entrepreneurs do not have sufficient equity; thus they are credit constrained.\n",
    "* In the credit constrained case recall that capital was given by the budget constraint for $t=0$ with $c_0=0$ imposed, i.e.:\n",
    "\n",
    "$$\\begin{align}\n",
    "    k_1 = n_0+\\lambda R(w_1) k_1.\n",
    "\\end{align}$$ \n",
    "\n",
    "Substituting for $R(w_1)$ this yields:\n",
    "\n",
    "$$\\begin{align}\n",
    "    k_1 - \\lambda\\alpha k_1^{\\alpha}=n_0. \\tag{$k_1^*$, credit-constrained}\n",
    "\\end{align}$$\n",
    "\n",
    "As long as $n_0<n^*$ this equations determines $k_1$. Differentiation wrt. $n_0$ then yields\n",
    "\n",
    "$$\\begin{align}\n",
    "    \\dfrac{\\partial k_1}{\\partial n_0}-\\lambda \\alpha^2k_1^{\\alpha-1}\\dfrac{\\partial k_1}{\\partial n_0}=1 && \\Rightarrow && \\dfrac{\\partial k_1}{\\partial n_0} = \\left(1-\\lambda \\alpha k_1^{\\alpha}\\dfrac{\\alpha}{k_1}\\right)^{-1}.\n",
    "\\end{align}$$\n",
    "\n",
    "Using the expression above for the credit constrained $k_1$ we can rearrange slightly to show that\n",
    "\n",
    "$$\\begin{align}\n",
    "\\dfrac{\\partial k_1}{\\partial n_0} = \\dfrac{1}{1-\\alpha(k_1-n_0)/k_1}>1\n",
    "\\end{align}$$\n",
    "\n",
    "another neat way of writing this is:\n",
    "\n",
    "$$\\begin{align}\n",
    "    \\dfrac{\\partial k_1}{\\partial n_0} = \\dfrac{1}{1-\\alpha \\lambda R(w_1)}>1.\n",
    "\\end{align}$$\n",
    "\n",
    "Capital thus increases more than 1-to-1 with the entrepreneur's equity here. The reason for this is the following:\n",
    "\n",
    "In the credit constrained case the entrepreneur prefers to allocate **all** of his consumption to $t=1$: Thus when $n_0$ increases marginally so does $k_1$, initially 1-to-1. When $k_1$ increases the entrepreneur increases his future profits $(y_1-w_1l_1)$; this relaxes the credit-constraint, allowing him to borrow more against future profits. This increases investments further. These findings can be confirmed in the equilibrium plot below:"
   ]
  },
  {
   "cell_type": "code",
   "execution_count": 4,
   "metadata": {},
   "outputs": [
    {
     "data": {
      "application/vnd.jupyter.widget-view+json": {
       "model_id": "24b22d579e9c43c0bad91bc62d3acf57",
       "version_major": 2,
       "version_minor": 0
      },
      "text/plain": [
       "interactive(children=(SelectionSlider(description='Borrowing constr., $\\\\lambda$', options=(0.0, 0.04, 0.08, 0…"
      ]
     },
     "metadata": {},
     "output_type": "display_data"
    }
   ],
   "source": [
    "Model.plot_interactive_cequi()"
   ]
  },
  {
   "cell_type": "markdown",
   "metadata": {},
   "source": [
    "## Q5: Introduce a lump-sum tax on consumers in period 0 that transfers wealth to entrepreneurs. Derive expected utility as a function of the lump sum tax rate."
   ]
  },
  {
   "cell_type": "markdown",
   "metadata": {},
   "source": [
    "**Plot utility:**"
   ]
  },
  {
   "cell_type": "markdown",
   "metadata": {},
   "source": [
    "Note:\n",
    "* The marginal utility of consumers is unambiguously decreasing in the tax. It converges on  a linear negative slope (-1).\n",
    "* The marginal utility of entrepreneurs is similarly decreasing in the tax. It converges on a positive linear slope (1).\n",
    "\n",
    "The following sections explains why this is the case."
   ]
  },
  {
   "cell_type": "code",
   "execution_count": 5,
   "metadata": {},
   "outputs": [
    {
     "data": {
      "image/png": "[encoded data removed]",
      "text/plain": [
       "<Figure size 1152x432 with 2 Axes>"
      ]
     },
     "metadata": {},
     "output_type": "display_data"
    }
   ],
   "source": [
    "Model.plot_u_ce_tau()"
   ]
  },
  {
   "cell_type": "markdown",
   "metadata": {},
   "source": [
    "Let us start with the consumers' utility. This is straightforward:\n",
    "\n",
    "$$\\begin{align}\n",
    "    U_C(\\tau) = 2e-\\tau + \\overbrace{(1-\\alpha)k_1^{\\alpha}}^{\\equiv w_1(\\tau)}\n",
    "\\end{align}$$\n",
    "\n",
    "**The entrepreneur part:** \n",
    "\n",
    "Setup is as defined in (Problem 3) earlier, simply with an added $\\tau$:\n",
    "\n",
    "$$\\begin{align}\n",
    "    U_E(\\tau) = n_0+\\tau +k_1\\left[R(w_1)-1\\right] \n",
    "\\end{align}$$\n",
    "\n",
    "Substitute for the equilibrium interest rate we then have\n",
    "\n",
    "$$\\begin{align}\n",
    "    U_E(\\tau) = n_0+\\tau + \\alpha k_1^{\\alpha}-k_1\n",
    "\\end{align}$$\n",
    "\n",
    "Now we have two cases:\n",
    "\n",
    "### The credit-constrained case\n",
    "\n",
    "If $n_0+\\tau<n^*$: The entrepreneur is **credit-constrained**, and capital is defined as earlier by the equality \n",
    "\n",
    "$$\\begin{align}\n",
    "k_1-\\lambda \\alpha k_1^{\\alpha} = n_0+\\tau.\n",
    "\\end{align}$$\n",
    "\n",
    "Substituting for this we get\n",
    "\n",
    "$$\\begin{align}\n",
    "    U_E(\\tau) = \\alpha k_1^{\\alpha}(1-\\lambda)\n",
    "\\end{align}$$\n",
    "\n",
    "\n",
    "Increasing the tax $\\tau$ corresponds to increasing the available endowment for entrepreneurs at $t=0$. As we confirmed above, capital is increasing in $n_0$ and thus in $\\tau$, when the credit constraint is binding. Thus $\\partial U_E/\\partial\\tau>0$ when the entrepreneur is constrained. Technically we can confirm this:\n",
    "\n",
    "\n",
    "$$\\begin{align}\n",
    "    \\dfrac{\\partial U_E}{\\partial \\tau} &= \\alpha^2k_1^{\\alpha-1}(1-\\lambda)\\dfrac{\\partial k_1}{\\partial n_0} \\\\\n",
    "                                        &= \\alpha R(w_1)(1-\\lambda)\\dfrac{\\partial k_1}{\\partial n_0}>0\n",
    "\\end{align}$$\n",
    "\n",
    "Using the derivative $\\partial k_1/\\partial n_0$, we can (if we prefer) simplify this further as\n",
    "\n",
    "$$\\begin{align}\n",
    "    \\dfrac{\\partial U_E}{\\partial \\tau} &= \\dfrac{\\alpha R(w_1)(1-\\lambda)}{1-\\alpha \\lambda R(w_1)}>0, && n_0+\\tau<n^*\n",
    "\\end{align}$$\n",
    "\n"
   ]
  },
  {
   "cell_type": "markdown",
   "metadata": {},
   "source": [
    "### The non-constrained case: \n",
    "\n",
    "If $n_0+\\tau\\geq n^*$ the capital equilibrium is unaffected. In this case the tax simply transfers wealth from consumers to entrepreneurs, who then immediately consume it. In other words we sum up:\n",
    "\n",
    "$$\\begin{align}\n",
    "    \\dfrac{\\partial U_e}{\\partial \\tau} = \\left\\lbrace \\begin{array}{ll}  1 & n_0+\\tau\\geq n^* \\\\\n",
    "    \\dfrac{\\alpha R(w_1)(1-\\lambda)}{1-\\alpha \\lambda R(w_1)} & n_0+\\tau<n^* \\end{array}\\right.\n",
    "\\end{align}$$"
   ]
  },
  {
   "cell_type": "markdown",
   "metadata": {},
   "source": [
    "## Q6: Show that the relationship between consumer utility and the lump-sum tax is non-monotone. Show that for sufficiently small $n_0$ the tax can be pareto-improving."
   ]
  },
  {
   "cell_type": "markdown",
   "metadata": {},
   "source": [
    "Entrepreneurs always benefit from the tax. For consumers the tax includes three potential effects:\n",
    "\n",
    "$$\\begin{align}\n",
    "    \\dfrac{\\partial U_c}{\\partial \\tau} = \\left\\lbrace \\begin{array}{ll} \\color{red}{-1}, & n_0+\\tau\\geq n^* \\\\ \\color{red}{-1} +\\color{blue}{(1-\\alpha)R(w_1)}\\color{blueviolet}{\\dfrac{\\partial k_1}{\\partial \\tau}}, & n_0+\\tau<n^*\\end{array}\\right.\n",
    "\\end{align}$$\n",
    "\n",
    "When $n_0+\\tau\\geq n^*$ the effect is clearly negative. However, when entrepreneurs are credit-constrained:\n",
    "\n",
    "1. Negative wealth transfer effect: $\\color{red}{-1}$.\n",
    "2. Entrepreneurs increase capital investment, which increases labor wages: $\\color{blue}{(1-\\alpha)R(w_1)}$.\n",
    "3. **(Credit multiplier)** The transfer loosens credit constraitn incuding further investment: $\\color{blueviolet}{\\partial k_1/\\partial \\tau}>1$.\n",
    "\n",
    "If effects 2-3. dominate effect 1., the tax has a pareto-improving effect. Effects 2-3. are largest for small values of $k_1$ (thus $n_0$).\n",
    "\n"
   ]
  },
  {
   "cell_type": "markdown",
   "metadata": {},
   "source": [
    "## Q7: Discuss how this justifies government's capital injection during the financial crisis. What features might the model be missing?"
   ]
  },
  {
   "cell_type": "markdown",
   "metadata": {},
   "source": [
    "The role for capital injections in this model:\n",
    "\n",
    "* A capital injection relaxes the banks' borrowing constraint, increases lending to the real sector and thus investments. This increases employment (not in our model though) and wages, which can offset the effects of the recession. \n",
    "\n",
    "* *Caveats (a few of potentially many):*\n",
    "    1. Moral hazard (reputation effect): If financial institutions expect bailouts $\\Rightarrow$ increase risky investments.\n",
    "    2. Endogenous uncertainty: A feature of the financial crisis was precautionary behavior in light of increased uncertainty. The capital injection reduces uncertainty of asset prices."
   ]
  },
  {
   "cell_type": "markdown",
   "metadata": {},
   "source": [
    "## Q8: How does key findings in Q6 depend on the type of borrowing constraint?"
   ]
  },
  {
   "cell_type": "markdown",
   "metadata": {},
   "source": [
    "The short answer: The borrowing constraint is quite standard. There are microfoundations that lead to this type of constraint.\n",
    "\n",
    "In this model future profits can (partly) be collateralized. There are several potential explanations why future profits cannot entirely be collateralized.\n",
    "\n",
    "* **Informational/enforcement frictions** are at the heart of any borrowing constraint (to the best of my knowledge at least).\n",
    "* **Moral Hazard**: Behave/shirk.\n",
    "* **Collateralized assets** as Kiyotaki and Moore (1997) leads to similar results. "
   ]
  }
 ],
 "metadata": {
  "kernelspec": {
   "display_name": "Python 3",
   "language": "python",
   "name": "python3"
  },
  "language_info": {
   "codemirror_mode": {
    "name": "ipython",
    "version": 3
   },
   "file_extension": ".py",
   "mimetype": "text/x-python",
   "name": "python",
   "nbconvert_exporter": "python",
   "pygments_lexer": "ipython3",
   "version": "3.7.4"
  }
 },
 "nbformat": 4,
 "nbformat_minor": 4
}
