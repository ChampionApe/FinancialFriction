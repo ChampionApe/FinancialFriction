{
 "cells": [
  {
   "cell_type": "markdown",
   "metadata": {},
   "source": [
    "## Exercise 6.1 in JT: Privately known private benefit and market breakdown"
   ]
  },
  {
   "cell_type": "markdown",
   "metadata": {},
   "source": [
    "Let us start with a brief outline of the setup (from section 6.2), compared to exercise 3.5 (a lot of is the same, will not be repeated here):\n",
    "\n",
    "* Two types of entrepreneurs: Good and bad types with private benefits of not behaving $B_H>B_L$. (good type has $B_L$)\n",
    "* No equity (A=0),\n",
    "* Investment is not continuous, but either 0 or I.\n",
    "* Investment is either successfull (return R) or not (return 0).\n",
    "* Capital markets put probability $\\alpha\\in(0,1)$ on type 'good' and $1-\\alpha$ on type 'bad'. \n",
    "* Regulary conditions:\n",
    "\n",
    "$$ \\begin{align}\n",
    "    p_H\\left(R-\\dfrac{B_H}{\\Delta p}\\right)<I<p_H\\left(R-\\dfrac{B_L}{\\Delta p}\\right), && \\text{and} && p_LR<I.\n",
    "\\end{align} $$\n",
    "\n",
    "Recall that the IC condition for an entrpreneur was **behave if**: $\\Delta p R_b \\geq B$.\n",
    "\n",
    "The regularity conditions thus state that:\n",
    "1. It is not profitable for lenders to invest in project with 'bad' entrepreneurs **and** making sure that they behave. (first inequality)\n",
    "2. It is profitable to invest in 'good type' entrepreneur **and** making sure that he behaves (second inequality).\n",
    "3. It is not profitable to invest in **any** project, where the entrepreneur mis-behaves (third inequality).\n"
   ]
  },
  {
   "cell_type": "markdown",
   "metadata": {},
   "source": [
    "## Q1: How does the level of rewards $R_b$ in case of success, change the equilibrium in various ranges?\n",
    "\n",
    "Generally, there are three possible outcomes:\n",
    "\n",
    "1. If $R_b<B_L/\\Delta p$: Both IC constraints are violated $\\Rightarrow$ all entrepreneurs misbehave $\\Rightarrow$ no loan contracts are offered (third regularity condition)\n",
    "2. If $R_b>B_H/\\Delta p$: If the lender offers $R_b$ both types of entrepreneurs will state that they are of type 'bad' and receive the higher income. This is not profitable (first regularity condition). No loan contracts are offered.\n",
    "3. If $B_L/\\Delta p < R_b < B_H/\\Delta p$: A range of values that induces 'good types' to work and may be profitable for the lender. Bad types identify themselves as 'good' types, but do not behave (as the IC constraint for them is not satisfied).\n",
    "\n",
    "Thus only pooling equilibria in the 3. range are possible.\n"
   ]
  },
  {
   "cell_type": "markdown",
   "metadata": {},
   "source": [
    "## Q2: Show that there exists a threshold $\\alpha^*$, of good types, where financing occurs only if $\\alpha>\\alpha^*$"
   ]
  },
  {
   "cell_type": "markdown",
   "metadata": {},
   "source": [
    "In Q1 we conluded that only pooling equilibria are feasible. Now we add the IR constraint for lender (no negative profits), given we know that only the pooling equilibria are feasible:\n",
    "\n",
    "$$\\begin{align} \n",
    "    \\underbrace{\\left[\\alpha p_H + (1-\\alpha) p_L\\right]}_{\\text{probability of success}} \\underbrace{\\left(R-R_b\\right)}_{\\text{Revenue if success}} \\geq I.\n",
    "\\end{align} $$\n",
    "\n",
    "To find the threshold of $\\alpha$ where this holds note:\n",
    "\n",
    "* The left-hand side is increasing in $\\alpha$, \n",
    "* The left-hand side is decreasing in $R_b$; i.e. the contract (that is still feasible according to Q1) that offers the highest profits are $R_b=B_L/\\Delta p$.\n",
    "\n",
    "The threshold $\\alpha^*$ is then defined by:\n",
    "\n",
    "$$\\begin{align}\n",
    "    \\left(\\alpha^*p_H+(1-\\alpha^*)p_L\\right)\\left(R-\\dfrac{B_L}{\\Delta p}\\right) = I.\n",
    "\\end{align}$$\n"
   ]
  },
  {
   "cell_type": "markdown",
   "metadata": {},
   "source": [
    "## Q3: Describe the 'cross-subsidies' between types that occur when borrowing is feasible."
   ]
  },
  {
   "cell_type": "markdown",
   "metadata": {},
   "source": [
    "Repetition of JT textbook terms on bullet form:\n",
    "\n",
    "* **Adverse selection** ( pooling equilibrium $(\\alpha\\geq \\alpha^*)$),\n",
    "* **Over investment:** All entrepreneurs borrow (only 'good type' was optimal under perfect information)\n",
    "* the quality of average lender drops,\n",
    "* **Cross-subsidization:** 'Good type' subsidizes the 'bad type'. \n",
    "* **Credit-rationing:** If $\\alpha<\\alpha^*$ the only pooling equilibrium is a collapse of the market; if the degree of adverse selection is too strong.\n",
    "\n",
    "Simplest extensions to this setup, see: Signalling (Leland and Pyle (1977)), more general equilibrium descriptions (JT 13.1)."
   ]
  }
 ],
 "metadata": {
  "kernelspec": {
   "display_name": "Python 3",
   "language": "python",
   "name": "python3"
  },
  "language_info": {
   "codemirror_mode": {
    "name": "ipython",
    "version": 3
   },
   "file_extension": ".py",
   "mimetype": "text/x-python",
   "name": "python",
   "nbconvert_exporter": "python",
   "pygments_lexer": "ipython3",
   "version": "3.7.4"
  }
 },
 "nbformat": 4,
 "nbformat_minor": 4
}
