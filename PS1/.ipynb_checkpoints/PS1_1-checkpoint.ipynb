{
 "cells": [
  {
   "cell_type": "markdown",
   "metadata": {},
   "source": [
    "## Exercise 3.5 The Continuous Investment Model"
   ]
  },
  {
   "cell_type": "markdown",
   "metadata": {},
   "source": [
    "Import packages, classes and settings:"
   ]
  },
  {
   "cell_type": "code",
   "execution_count": 1,
   "metadata": {},
   "outputs": [],
   "source": [
    "import numpy as np\n",
    "import math\n",
    "import itertools\n",
    "from scipy import optimize\n",
    "import scipy.stats as stats\n",
    "import PS1 as func\n",
    "# For plots:\n",
    "import matplotlib.pyplot as plt\n",
    "import matplotlib as mpl\n",
    "%matplotlib inline\n",
    "plt.style.use('seaborn-whitegrid')\n",
    "mpl.style.use('seaborn')\n",
    "prop_cycle = plt.rcParams[\"axes.prop_cycle\"]\n",
    "colors = prop_cycle.by_key()[\"color\"]\n",
    "import ipywidgets as widgets\n",
    "from ipywidgets import interact, interact_manual"
   ]
  },
  {
   "cell_type": "markdown",
   "metadata": {},
   "source": [
    "Initialize model:"
   ]
  },
  {
   "cell_type": "code",
   "execution_count": 2,
   "metadata": {},
   "outputs": [
    {
     "name": "stdout",
     "output_type": "stream",
     "text": [
      "The solution converged.\n"
     ]
    }
   ],
   "source": [
    "Model_1 = func.contInvest() # Model instance for exercise 3.5\n",
    "Model_1.solve() # solve model with default parameter values."
   ]
  },
  {
   "cell_type": "markdown",
   "metadata": {},
   "source": [
    "The plotting facilities for this class are given by:"
   ]
  },
  {
   "cell_type": "code",
   "execution_count": 3,
   "metadata": {},
   "outputs": [
    {
     "data": {
      "text/plain": [
       "{'plot_eu': 'Plots the utility of entrepreneur on a grid of assets when behaving/not behaving.',\n",
       " 'plot_interactive_sol': 'Plots the equilibrium outcome, the unconstrained solution and the binding IC constraint on a grid of assets.'}"
      ]
     },
     "execution_count": 3,
     "metadata": {},
     "output_type": "execute_result"
    }
   ],
   "source": [
    "Model_1.plots"
   ]
  },
  {
   "cell_type": "markdown",
   "metadata": {},
   "source": [
    "### Consider the continuous the continuous investment model with decreasing returns to scale outlined in chapter 3 of JT. The core of the model is as follows:\n",
    "- Let $I\\in[0, \\infty)$ be the level of investment in a given project.\n",
    "- Entrepreneur proposes a project. If successful the project generates income $R(I)$; if not the project generates $0$.\n",
    "- The probability of success depends on the behavior of the entrepreneur. If E behaves $(b)$ then probability of success is $p_H\\in(0,1)$. If E does not behave $(nb)$ then the probability of success is $p_L$ where $0\\leq p_L<p_H$. \n",
    "- The entrepreneur has an incentive to not behave $(nb)$, as he receives $BI$ in private benefits in this case.\n",
    "- The entrepreneur is endowed with A in assets.\n",
    "- No investment project is profitable, if entrepreneur chooses not to behave. \n",
    "- The entrepreneur's technology obeys the following conditions:\n",
    "    1. Positive, but decreasing returns to investments: $R'(I)>0, R''(I)<0$. \n",
    "    2. *Regularity condition 1:* Under perfect information a positive investment level would be optimal, i.e. $R'(0)>1/p_H$. \n",
    "    3. *Regularity condition 2:* Under perfect information a finite level of investment is optiaml, i.e. $ lim_{I\\rightarrow \\infty} R'(I) < 1/p_H$. \n",
    "- Assume perfect competition between lenders.\n",
    "    \n"
   ]
  },
  {
   "cell_type": "markdown",
   "metadata": {},
   "source": [
    "#### The Entrepreneurial problem, part I\n",
    "\n",
    "The first part of the entrepreneur's problem is the discrete choice: $b$ or $nb$. The utility from each choice is given by:\n",
    "\n",
    "$$\\begin{align} \n",
    "u_b &= p_HR_b(I)-A \\\\\n",
    "u_{nb}&= p_LR_b(I)+BI-A.\n",
    "\\end{align}$$\n",
    "\n",
    "The **incentive compatability constraint (IC)** is the threshold when option $b$ is preferred. This is defined as:\n",
    "\n",
    "$$\\begin{align}\n",
    "u_b-u_{nb}\\geq 0 && \\Rightarrow && \\Delta p R_b(I) \\geq BI, \\tag{IC}\n",
    "\\end{align}$$\n",
    "\n",
    "where $\\Delta p \\equiv p_H-p_L$.\n"
   ]
  },
  {
   "cell_type": "markdown",
   "metadata": {},
   "source": [
    "Note, the IC constraint is independent of the level of assets $(A)$. Furthermore, with regularity assumptions 1-2 it looks as follows:"
   ]
  },
  {
   "cell_type": "code",
   "execution_count": 4,
   "metadata": {},
   "outputs": [
    {
     "data": {
      "image/png": "[encoded data removed]",
      "text/plain": [
       "<Figure size 576x432 with 1 Axes>"
      ]
     },
     "metadata": {},
     "output_type": "display_data"
    }
   ],
   "source": [
    "Model_1.plot_eu()"
   ]
  },
  {
   "cell_type": "markdown",
   "metadata": {},
   "source": [
    "#### The lender's problem:\n",
    "\n",
    "The lender faces two problems here: (1) Risk over outcomes and (2) Moral hazard. The moral hazard comes from the entrepreneur who has an incentive to not behave, due to the potential private benfits BI. Note two observations before we set up the lender's problem:\n",
    "\n",
    "1. The project is never profitable if the entrepreneur chooses not to behave. This implies that the **(IC)** constraint must always hold. This means that the contract $R_b(I)$ must at least secure:\n",
    "\n",
    "$$\\begin{align} \n",
    "    R_b^* = \\dfrac{BI}{\\Delta p}.\n",
    "\\end{align}$$\n",
    "\n",
    "2. We assume that lenders operate under perfect competition. Thus in equilibrium the expected profits of a lender is driven to zero. \n",
    "\n",
    "With this in mind define the expected profits from the lender $\\pi_l^e$ as:\n",
    "\n",
    "$$\\begin{align}\n",
    "\\pi_l^e = p_H \\left[R(I)-R_b\\right]-\\left(I-A\\right)\\geq0 \\tag{IR}\n",
    "\\end{align}$$\n",
    "\n",
    "Here we have used: (1) The lender will always make sure that the entrepreneur chooses $b$. Thus we only use $p_H$ as probability of success. (2) The lender offers $I-A$ for the project, as the entrepreneur puts up $A$ himself. The lender thus only enters into any contract, if his **rationality constraint (IR)** holds, i.e. if $\\pi_l^e\\geq0$. \n",
    "\n",
    "\n",
    "#### The Entrepreneurial problem, part II\n",
    "\n",
    "The entrepreneur knows that to land a contract, lender will always offer a contract ensuring that the **(IC)** constraint holds. Thus he only considers the outcomes where he behaves. Using that there are perfect competition for lenders, the entrepreneur chooses an $I$, such that the **(IR)** constraint holds with equality. The utility in this scenario for the entrepreneur is then given by:\n",
    "\n",
    "$$\\begin{align} \n",
    "    u_b &= p_H R_b(I) -A \\\\ \n",
    "        &= p_H R(I)-I,\n",
    "\\end{align}$$ \n",
    "where $p_HR_b(I)$ is substituted for using the **(IR)** constraint. The problem of the entrepreneur that recognizes all of the above is then given by:\n",
    "\n",
    "\n",
    "$$ \\begin{align} \n",
    "    \\max_{I} p_HR(I)-I, && \\text{s.t. }\\overbrace{p_H\\left[R(I)-\\dfrac{BI}{\\Delta p}\\right]}^{\\text{IR constraint s.t. IC constraint}}\\geq I-A\n",
    "\\end{align}$$ \n",
    "\n",
    "The constraint states that the entrepreneur recognizes the IR constraint of the lender **and** that the lender offers an **IC** binding contract. Denote this the **(IR-IC)** constraint.\n",
    "\n",
    "The first order condition characterizing the solution is then given by:\n",
    "\n",
    "$$ \\begin{align} \n",
    "    p_HR'(I) &= 1+\\dfrac{\\mu}{1+\\mu} \\dfrac{p_HB}{\\Delta p}\\geq 1,  \\tag{FOC 1} \n",
    "\\end{align} $$\n",
    "\n",
    "along with the Karush-Kuhn-Tucker conditions\n",
    "\n",
    "$$ \\begin{align} \n",
    "    \\mu\\left[p_H\\left(R(I)-\\dfrac{BI}{\\Delta p}\\right)-(I-A)\\right]=0, && \\mu\\geq 0, &&  p_H\\left(R(I)-\\dfrac{BI}{\\Delta p}\\right)-(I-A)\\geq 0 \\tag{FOC 2 / KKT}\n",
    "\\end{align} $$\n",
    "\n",
    "\n",
    "\n",
    "\n",
    "\n",
    "\n",
    ".\n"
   ]
  },
  {
   "cell_type": "markdown",
   "metadata": {},
   "source": [
    "## Q1: How does investments vary with assets A?\n",
    "\n",
    "Let us start with some comments on the solution: \n",
    "* Note that if the **(IR-IC)** constraint is **not** binding, the shadow-variable $\\mu=0$ and the optimum is given by $p_HR'(I) =1$.\n",
    "* If the **(IR-IC)** constraint **is** binding, the level of $I$ is determined entirely from the **(IR-IC)** constraint.\n",
    "\n",
    "In the following we use the $R(I)$ function $R(I) = I^p$. Note that we require $1>p_H>p_L>0$ and $p\\in(0,1)$."
   ]
  },
  {
   "cell_type": "markdown",
   "metadata": {},
   "source": [
    "The following illustrates the equilibrium investment level on a grid of assets. It is plotted as an *interactive widget* allowing you to play around with a couple of parameter values, and see the effect on the equilibrium. "
   ]
  },
  {
   "cell_type": "code",
   "execution_count": 5,
   "metadata": {},
   "outputs": [
    {
     "data": {
      "application/vnd.jupyter.widget-view+json": {
       "model_id": "6f360a96757d463fbcd76d7db818a72b",
       "version_major": 2,
       "version_minor": 0
      },
      "text/plain": [
       "interactive(children=(SelectionSlider(description='Probability, $p_H$', options=(0.6, 0.61, 0.62, 0.64, 0.65, …"
      ]
     },
     "metadata": {},
     "output_type": "display_data"
    }
   ],
   "source": [
    "Model_1.plot_interactive_sol()"
   ]
  },
  {
   "cell_type": "markdown",
   "metadata": {},
   "source": [
    "**Results/comments:**\n",
    "\n",
    "* If $A$ is sufficiently large $\\Rightarrow \\mu=0$ and $I$ is efficiently chosen.\n",
    "* If not $\\mu>0$ and investments are suboptimally low. The reason for this is the **moral hazard** of the scheme:\n",
    "    * The entrepreneur receives private benefits of $BI$ from not behaving.\n",
    "    * If $A$ is low entrepreneurs have to borrow a lot. \n",
    "    * The private benefits from not behaving increases linearly with I; thus the lender has to offer a contract with linearly increasing benefits $R_b$ to avoid the bad behavior. \n",
    "    * For the lender to avoid negative profits (IR constraint), the price of borrowing is increased. \n",
    "    * The marginal benefits of the loan decreases with the size $(R''(I)<0)$. Thus if the loan is too large the optimal level $I^*$ will not be financed.\n",
    "    "
   ]
  },
  {
   "cell_type": "markdown",
   "metadata": {},
   "source": [
    "## Q2: How does the shadow-value of assets vary with A?\n",
    "\n",
    "Let us start by defining how the optimal choice of investments $(I)$ change with A:\n",
    "\n",
    "* If the IC constraint is not binding (when A is large), I was independent of A. Define the threshold $\\bar{A}$ as the level where the IC constraint is no longer binding.\n",
    "* If the IC constraint is binding, A increases $I$. Define the implicit function $I(A)$. By total differentiation of IC we then have:\n",
    "\n",
    "$$ \\begin{align}\n",
    "    p_H\\left[R'(I) -\\dfrac{B}{\\Delta p}\\right]\\dfrac{dI}{dA} = \\dfrac{dI}{dA}-1, && \\text{for }A<\\bar{A},\n",
    "\\end{align} $$ \n",
    "\n",
    "and otherwise 0. Isolating for $dI/dA$ we then have:\n",
    "\n",
    "$$\\begin{align} \n",
    "    \\dfrac{dI}{dA} = \\dfrac{1}{1-p_HR'(I)+\\frac{p_HB}{\\Delta p}}> 0, && \\text{for }A<\\bar{A}, \\tag{MMIE}\n",
    "\\end{align} $$\n",
    "\n",
    "where the denominator is positive. To see this substitute for (FOC 1) to get\n",
    "\n",
    "$$ \\begin{align}\n",
    "1-p_HR'(I) + \\frac{pH B}{\\Delta p} = \\underbrace{-\\dfrac{\\mu}{1+\\mu}\\dfrac{p_HB}{\\Delta p}}_{\\text{from FOC 1}}+\\dfrac{p_HB}{\\Delta p}  = \\dfrac{p_HB}{\\Delta p}\\dfrac{1}{1+\\mu}>0\n",
    "\\end{align} $$\n",
    "\n",
    "\n",
    "Finally, what is then the shadow value of A? Differentiate the utility function:\n",
    "\n",
    "$$ \\begin{align} \n",
    "    \\dfrac{du_b}{dA} &= \\left[p_HR'(I)-1\\right]\\dfrac{dI}{dA} \\\\ \n",
    "                     &= \\underbrace{\\dfrac{\\mu}{1+\\mu}\\dfrac{p_H B}{\\Delta p}}_{\\text{From FOC 1}}\\dfrac{dI}{dA}. \\tag{SVE}\n",
    "\\end{align} $$"
   ]
  },
  {
   "cell_type": "markdown",
   "metadata": {},
   "source": [
    "**Comments for the results:**\n",
    "\n",
    "* When $A>\\bar{A}: du/dA=0$. When A is large enough the optimal level of investments is ensured; sufficient access to credit.\n",
    "* When $A<\\bar{A}: du/dA>0$. When the entrepreneur is constrained in his investment, an increase in A relaxes credit constraint. \n",
    "* The term $dI/dA$ in (MMIE) is the Marginal Multiplier of Initial Equity. \n",
    "* The term $du/dA$ in (SVE) is the Shadow Value of Equity. In the face of imperfect information and moral hazard, the famous Modigliani and Miller (1963) result that the source of financing does not matter, breaks down. \n"
   ]
  },
  {
   "cell_type": "markdown",
   "metadata": {},
   "source": [
    "# Exercise 6.2 in JT: More on pooling in credit markets."
   ]
  },
  {
   "cell_type": "markdown",
   "metadata": {},
   "source": [
    "Compared to before, alter the setup as follows:\n",
    "\n",
    "* Continuum of types instead of good/bad. For entrepreneur $i$ the value $B_i$ is distributed according to the CDF function $H(B)$, with support on $[0, \\bar{B}]$\n",
    "* Monopoly lender offers credit to borrowers (entrepreneurs).\n",
    "\n",
    "The lender offers $R_b$ for a successfull investment, otherwise 0. Borrower $i$ then behaves **if** the IC constraint holds: $B_i\\leq \\Delta p R_b$. The expected profits from offering the contract is then defined by:\n",
    "\n",
    "\n",
    "$$\\begin{align} \n",
    "    \\pi(R_b) = H\\big(\\Delta p R_b\\big)p_H(R-R_b)+\\left[1-H\\big(\\Delta p R_b\\big)\\right] p_L(R-R_b)-I, \\tag{Profits}\n",
    "\\end{align} $$\n",
    "\n",
    "where $H(\\Delta p R_b)$ measures the share of borrowers that behave, i.e. with $B_i<\\Delta R_b$. From this note:\n",
    "\n",
    "* The share of high-quality borrowers increase with $R_b$ (bad types start to behave).\n",
    "* Same dynamics as before: Adverse selection reduces quality of lending, induces cross-subsidies between types."
   ]
  },
  {
   "cell_type": "markdown",
   "metadata": {},
   "source": [
    "Before proceeding to the questions, we illustrate the case where $H(B)$ is uniformly distributed."
   ]
  },
  {
   "cell_type": "code",
   "execution_count": 10,
   "metadata": {},
   "outputs": [
    {
     "name": "stdout",
     "output_type": "stream",
     "text": [
      "7.500000000000001\n"
     ]
    }
   ],
   "source": [
    "LowerBound = 0\n",
    "UpperBound = 10 \n",
    "N = 100\n",
    "x = np.linspace(LowerBound, UpperBound, N)\n",
    "pH = 0.9\n",
    "pL = 0.5\n",
    "R = 10\n",
    "I = 2\n",
    "rv = stats.uniform(loc=LowerBound, scale=UpperBound-LowerBound)\n",
    "Exp_profits = rv.cdf(x)*pH*(R-x)+(1-rv.cdf(x))*pL*(R-x)-I\n",
    "def prof_func(y):\n",
    "    return rv.cdf(y)*pH*(R-y)+(1-rv.cdf(y))*pL*(R-y)-I\n",
    "# For what value of B does the profits cross zero?\n",
    "Zero_profits = optimize.newton(prof_func, 0)\n",
    "print(Zero_profits)"
   ]
  },
  {
   "cell_type": "code",
   "execution_count": 11,
   "metadata": {},
   "outputs": [
    {
     "data": {
      "image/png": "[encoded data removed]",
      "text/plain": [
       "<Figure size 800x600 with 1 Axes>"
      ]
     },
     "metadata": {},
     "output_type": "display_data"
    },
    {
     "data": {
      "image/png": "[encoded data removed]",
      "text/plain": [
       "<Figure size 800x600 with 1 Axes>"
      ]
     },
     "metadata": {},
     "output_type": "display_data"
    }
   ],
   "source": [
    "fig = plt.figure(frameon=False, figsize=(8, 6), dpi=100)\n",
    "ax = fig.add_subplot(1, 1, 1)\n",
    "\n",
    "ax.plot(x, rv.cdf(x))\n",
    "ax.plot(x, rv.pdf(x))\n",
    "ax.set_xlim([LowerBound, UpperBound])\n",
    "ax.set_ylim([0, 1])\n",
    "\n",
    "# Labels:\n",
    "ax.set_xlabel('$B$')\n",
    "#ax.set_ylabel('Share of entrepreneurs with $B_i\\leq B$')\n",
    "plt.legend(('Share of entrepreneurs with $B_i\\leq B$', '$dH/dB_i$'),\n",
    "           loc='upper left')\n",
    "\n",
    "# Add a cool layout\n",
    "fig.tight_layout()\n",
    "\n",
    "fig2 = plt.figure(frameon=False, figsize=(8, 6), dpi=100)\n",
    "ax2 = fig2.add_subplot(1, 1, 1)\n",
    "ax2.plot(x,Exp_profits)\n",
    "ax2.set_xlim([LowerBound, UpperBound])\n",
    "ax2.set_ylim([math.floor(min(Exp_profits)), math.ceil(max(Exp_profits))])\n",
    "ax2.set_xlabel('$B$') \n",
    "ax2.set_ylabel('Expected profits')\n",
    "plt.axvline(x=Zero_profits, color='k', linestyle='--')\n",
    "plt.axhline(y=0, color='k')\n",
    "\n",
    "plt.legend(('Expected profits' , 'Level of B implying zero profits' ),\n",
    "          loc='lower left')\n",
    "plt.text(Zero_profits+0.25, (math.ceil(max(Exp_profits))-math.floor(min(Exp_profits)))/2, 'Zero profits at B='+str(Zero_profits), bbox=dict(facecolor='darkblue', alpha=0.5))\n",
    "\n",
    "fig2.tight_layout()"
   ]
  },
  {
   "cell_type": "markdown",
   "metadata": {},
   "source": [
    "## Q: Show a number of results:\n",
    "1. Proportion of high-quality borrowers is endogenous and depends on $R_b$.\n",
    "2. Adverse selection reduces quality of lending\n",
    "3. externality among types: Presence of low-quality borrower forces lender to charge interest rate, generating strictly positive profits on high-quality types.\n",
    "4. Show an example of 'bad lemons' breaking down the market."
   ]
  },
  {
   "cell_type": "markdown",
   "metadata": {},
   "source": [
    "The first 3 are answered straightforwardly:\n",
    "\n",
    "* A high quality borrower, is one that behaves. The share of high quality borrowers is defined as $H(\\Delta p R_b)$. If $R_b$ increases, so does this share.\n",
    "* Adverse selection means that the lender cannot e.g. **only** offer the contract $R_b$ to certain types / offer individual contracts based on their types $R_b^i(B_i)$. \n",
    "\n",
    "Lastly, we give an example where the market breaks down. All we need for the market to break down, is to find a scenario where profits of the lender is negative:\n",
    "\n",
    "* Assume that $p_L=0$, and that borrowers are **uniformly distributed** that is $H(B) = B/\\bar{B}$, for $B\\in[0,\\bar{B}]$.\n",
    "* In this case the expected profits are given by:\n",
    "\n",
    "$$\\begin{align}\n",
    "    \\pi(R_b) &= \\overbrace{\\dfrac{\\Delta p R_b}{\\bar{B}}}^{\\equiv H(\\Delta p R_b)} p_H (R-R_b)-I  \\\\ \n",
    "             &= \\dfrac{p_H R_b}{\\bar{B}}p_H(R-R_b)-I.\n",
    "\\end{align} $$\n",
    "\n",
    "The profit maximizing level of $R_b$ is then given by: $R_b^* = R/2$, which yields profits of\n",
    "\n",
    "$$\\begin{align} \n",
    "    \\pi(R_b^*) &= \\dfrac{p_H R/2}{\\bar{B}}p_H\\left(R-\\dfrac{R}{2}\\right)-I \\\\\n",
    "               &= \\dfrac{p_H^2R^2}{4\\bar{B}}-I.\n",
    "\\end{align} $$ \n",
    "\n",
    "Thus as long as $I>p_H^2R^2/(4\\bar{B})$ the market breaks down."
   ]
  },
  {
   "cell_type": "markdown",
   "metadata": {},
   "source": [
    "# Exercise 13.1 JT: Improved governance"
   ]
  },
  {
   "cell_type": "markdown",
   "metadata": {},
   "source": [
    "The setup in this exercise:\n",
    "\n",
    "* Two period model, $t=0,1$.\n",
    "* Continuum of entrepreneurs with initial wealth $(A)$ distributed with the CDF $G(A)$ with support on $[0,I]$.\n",
    "* At time $t=0$: Entrepreneurs can invest $I$ and borrow $(I-A)$ or invest in other firms.\n",
    "* Entrepreneurs are risk neutral and thus have utility $u_e=c_0+c_1$.\n",
    "* As before: Receive $R$ is investment is successful, with probability $p_H$ if entrepreneur behaves or $p_L$ if he shirks (misbehaves). Shirking yields private benefits of $B$.\n",
    "* Now add consumers: Behavior results in an increasing savings function $S(r)$, with $S(r)=0$ for $r<0$.\n"
   ]
  },
  {
   "cell_type": "markdown",
   "metadata": {},
   "source": [
    "## Q1: When are projects financed?"
   ]
  },
  {
   "cell_type": "markdown",
   "metadata": {},
   "source": [
    "Consider the entrepreneur again (similar to the exercises above): \n",
    "\n",
    "* He behaves if (IC) holds:\n",
    "\n",
    "$$\\begin{align}\n",
    "    (\\Delta p)R_b\\geq B. \\tag{IC}\n",
    "\\end{align}$$\n",
    "\n",
    "* If (IC) holds profits are given by:\n",
    "\n",
    "$$\\begin{align}\n",
    "    p_H\\left(R-\\dfrac{B}{\\Delta p}\\right). \\tag{IC, $\\pi$}\n",
    "\\end{align}$$\n",
    "\n",
    "* Lenders will finance project as long as profits are larger than alternative cost:\n",
    "\n",
    "$$\\begin{align}\n",
    "    (1+r)(I-A)\\leq p_H\\left(R-\\dfrac{B}{\\Delta p}\\right), \\tag{IR}\n",
    "\\end{align}$$\n",
    "\n",
    "where the LHS is the profit from saving (alternative cost w. rent r) and the RHS is the profit from investing with a loan contract such that the (IC) constraint holds with equality.\n",
    "\n",
    "\n",
    "* As we saw earlier the solution depends on the level $A$. All $A>A^*$ such that (IR) holds are financed."
   ]
  },
  {
   "cell_type": "markdown",
   "metadata": {},
   "source": [
    "## Q2: Give the expression determining the interest rate r. How does it change if investor protection improves (interpreted as fall in B)?"
   ]
  },
  {
   "cell_type": "markdown",
   "metadata": {},
   "source": [
    "The **supply** side of the financial market consists of consumers with savings function $S(r)$ and entrepreneurs who do not get extended credit to carry out the project, i.e. all $A<A^*$. Thus:\n",
    "\n",
    "$$\\begin{align}\n",
    "    \\tilde{S}(r) = S(r)+\\int_0^{A^*(r)}A\\mbox{ }dG(A)\n",
    "\\end{align}$$\n",
    "\n",
    "The **demand** side of the financial market consists of entrepreneurs with $A\\geq A^*$:\n",
    "\n",
    "$$\\begin{align}\n",
    "    D(r) = \\int_{A^*(r)}^I (I-A)\\mbox{ }dG(A)\n",
    "\\end{align}$$\n",
    "\n",
    "\n",
    "Equilibrium balances demand and supply, i.e. $D(r)=\\tilde{S}(r)$.\n",
    "\n",
    "\n",
    "**Investor protection improves:** ($B$ falls)\n",
    "\n",
    "* Motive for not behaving drops for all entrepreneurs. Thus entrepreneurs that were before marginally unprofitable to invest in, now increase the *pledgeable income* they can promise investors. In other words; the IC constraint is easier to satisfy, $R_b$ is lower.\n",
    "* This lowers the threshold $A^*$, i.e. more entrepreneurs are extended credit. Demand increases.\n",
    "* For supply to increase and adjust to the higher demand, the interest rate increaes. \n",
    "\n",
    "\n",
    "**An extra comment on the model, The balance-sheet channel:**\n",
    "Note that in this model, a marginal change in r has the effect on supply:\n",
    "\n",
    "$$\\begin{align}\n",
    "    S'(r)+A^*(r)g(A^*(r))\\dfrac{\\partial A^*(r)}{\\partial r}>0.\n",
    "\\end{align}$$\n",
    "If $r$ increaess, less investment projects are profitable $\\Rightarrow$ supply increases. The effet on demand is given by \n",
    "\n",
    "$$\\begin{align}\n",
    "    -(I-A^*(r))dg(A^*(r))\\leq 0\n",
    "\\end{align}$$\n",
    "\n",
    "The implication is that *shocks that shift demand upwards (downwards) and supply downwards (upwards) can lead to large fluctuations in investment, without significant changes in the interest rate (r)*. Large fluctuations in investment, but small changes in r, is a stylized fact; something that we observe."
   ]
  },
  {
   "cell_type": "markdown",
   "metadata": {},
   "source": [
    "# Exercise from PS: Adverse selection with heterogenous ability"
   ]
  },
  {
   "cell_type": "markdown",
   "metadata": {},
   "source": [
    "## The setup:\n",
    "\n",
    "* Continuum of risk-neutral entrepreneurs (same initial $A$)\n",
    "* Investment cost of cost $I$ (where $I>A$) yields $R$ in return w. probability $p$. Otherwise $0$ return.\n",
    "* Agents differ in the probability of success $p$. Is distributed on $[0,1]$ according to the pdf function $f(p_i)$. (As usual $F(p)$ is the share of agents w. $p_i\\leq p$. $f(p)$ is the marginal change in that probability around $p_i=p$.)\n",
    "* Total supply of loanable funds is simply presented by the increasing function $S(r)$. \n",
    "* This $S(r)$ is supplied by a competetive market (e.g. banks).\n",
    "* Assume perfect information.\n",
    "* Compared to before: No assumption of private benefits from not behaving."
   ]
  },
  {
   "cell_type": "markdown",
   "metadata": {},
   "source": [
    "## Q1: Individual rationality constraint, given that the agent has the choice between investment $I$ or depositing $A$. "
   ]
  },
  {
   "cell_type": "markdown",
   "metadata": {},
   "source": [
    "This is straightforwardly given by:\n",
    "\n",
    "$$\\begin{align}\n",
    "    p(R-R_b(p)) \\geq (1+r)A \\tag{IR}\n",
    "\\end{align}$$\n",
    "\n",
    "Note that we assume that the payment $R_b$ may depend on $p$, as we assume **perfect information** for now. Note here:\n",
    "\n",
    "* The LHS denotes profits from the investments after paying $R_b(p)$ on loan if successful. Otherwise zero. \n",
    "* The RHS denotes the value of depositing $A$ at interest rate $r$."
   ]
  },
  {
   "cell_type": "markdown",
   "metadata": {},
   "source": [
    "## Q2: Write equations determining the riskless rate $r$, the identity of the marginal investor, and the zero (marginal) profit for the bank."
   ]
  },
  {
   "cell_type": "markdown",
   "metadata": {},
   "source": [
    "Let us start by imposing **zero profits** for the banks:\n",
    "\n",
    "$$ \\begin{align}\n",
    "pR_b(p) = (1+r)(I-A), && \\forall p \\tag{ZP}\n",
    "\\end{align}$$\n",
    "\n",
    "where $pR_b(p)$ is the payment if the project is successful, and the cost is the alternative cost of the loan: $(1+r)(I-A)$. Denote for now $B\\equiv I-A$ the loan given by the bank. Note once again that the perfect information assumption implies that the zero profits hold for all $p$. "
   ]
  },
  {
   "cell_type": "markdown",
   "metadata": {},
   "source": [
    "The **marginal investor** is given by the $\\bar{p}$, where the IR constraint exactly holds. Imposing the zero profits condition we then have:\n",
    "\n",
    "$$\\begin{align} \n",
    "  \\bar{p}R-\\underbrace{(1+r)(I-A)}_{\\equiv \\bar{p}R_b(\\bar{p})\\text{ from (ZP)}}=(1+r)A && \\Rightarrow && \\bar{p}(r) = \\dfrac{1+r}{R}I\n",
    "\\end{align}$$"
   ]
  },
  {
   "cell_type": "markdown",
   "metadata": {},
   "source": [
    "Finally the **riskless rate (r)** (it is riskless, due to the perfect information assumption) is determined by the equilibrium condition; i.e. that demand equals supply. With the threshold $\\bar{p}$ all entrepreneurs who have a larger probability of success than the level $\\bar{p}$, where profits are zero and (IR) holds with equality.\n",
    "\n",
    "Recall that $f(p)$ denoted the distribution of the entrepreneurs. Thus demand for credit is extended to all entrepreneurs with $p\\geq \\bar{p}$, or:\n",
    "\n",
    "$$\\begin{align}\n",
    "    D(r) = \\int_{\\bar{p}(r)}^1(I-A)f(p)\\mbox{ }dp\n",
    "\\end{align}$$\n",
    "\n",
    "Supply is given by the *aggregate supply function* $S(r)$, as well as the initial wealth $(A)$ from the entrepreneurs who do not obtain credit to carry out their investment. Define this new *total* supply function $\\tilde{S}(r)$:\n",
    "\n",
    "$$\\begin{align}\n",
    "    \\tilde{S}(r) = S(r) + \\int_0^{\\bar{p}(r)} A f(p)\\mbox{ }dp\n",
    "\\end{align}$$"
   ]
  },
  {
   "cell_type": "markdown",
   "metadata": {},
   "source": [
    "## Q3: Confirm that only projects with positive net present value are carried out."
   ]
  },
  {
   "cell_type": "markdown",
   "metadata": {},
   "source": [
    "This is given, as banks have a zero profits condition, and entrepreneurs have the IR condition."
   ]
  },
  {
   "cell_type": "markdown",
   "metadata": {},
   "source": [
    "## Q4: Assume p is not observable. Compute equilibrium lending contract, the idendity of the marginal investor and show that there is overinvestment."
   ]
  },
  {
   "cell_type": "markdown",
   "metadata": {},
   "source": [
    "Now that the banks cannot observe $p$, they cannot make the contracts contingent on $p$. Thus they can only propose one contract, offering $R_b^*$ if the project is successful. Let $p^*$ denote the marginal investor now. From the IR constraint (with equality) we get:\n",
    "\n",
    "$$\\begin{align} \n",
    "    p^*(R-R^*_b)=(1+r)A \\tag{IR*}\n",
    "\\end{align}$$\n",
    "\n",
    "Zero profits for the bank:\n",
    "\n",
    "$$\\begin{align}\n",
    "    \\int_{p^*}^1 p R_b^*f(p)\\mbox{ }dp = \\left(1- F(p^*)\\right)(1+r)(I-A). \n",
    "\\end{align}$$\n",
    "\n",
    "The LHS gives the payout to successful projects. The RHS is the alternative cost of the loan contracts. Note that $1-F(p^*)$ is the share of entrepreneurs with $p\\geq p^*$. \n",
    "\n",
    "Note that we can define this as the **conditional expected value**:\n",
    "\n",
    "$$\\begin{align}\n",
    "    \\dfrac{\\int_{p^*}^1 p R_b^*f(p)\\mbox{ }dp}{1- F(p^*)} \\equiv R_b^* \\mathbb{E}\\left[p|p\\geq p^*\\right] = (1+r)(I-A).  \\tag{ZP*}\n",
    "\\end{align}$$\n",
    "\n",
    "Combining the zero profits, and the marginal investor identity we then have:\n",
    "\n",
    "$$\\begin{align}\n",
    "        (1+r)A&= p^*R-p^*R_b^* \\\\\n",
    "              &= p^*R-R_b^* \\mathbb{E}\\left[p|p\\geq p^*\\right] \\dfrac{p^*}{\\mathbb{E}\\left[p|p\\geq p^*\\right]} \\\\ \n",
    "              &= p^*R-(1+r)*(I-A)*\\dfrac{p^*}{\\mathbb{E}\\left[p|p\\geq p^*\\right]}\n",
    "\\end{align}$$\n",
    "\n",
    "where the last line uses $(IR^*)$."
   ]
  },
  {
   "cell_type": "markdown",
   "metadata": {},
   "source": [
    "Rearranging this expression we get:\n",
    "\n",
    "$$\\begin{align}\n",
    "    p^*R = I (1+r)\\dfrac{p^*}{\\mathbb{E}\\left[p|p\\geq p^*\\right]}+A(1+r)\\left[1-\\dfrac{p^*}{\\mathbb{E}\\left[p|p\\geq p^*\\right]}\\right]\\leq (1+r)I \\tag{Marginal*}\n",
    "\\end{align}$$\n",
    "\n",
    "\n",
    "The RHS is a linear combination of $(1+r)I$ and $(1+r)A$. Compared to this the marginal investor was defined by $\\bar{p}R=(1+r)I$ previously. As $I>A$ this establishes the inequality in (Marginal$^*$). Finally this entails directly that $p^*\\leq \\bar{p}$.\n",
    "\n",
    "This inequality entails **overinvestment**:\n",
    "\n",
    "* When $p$ is observed by the bank, the marginal investor is identified, such that *marginal* profits are zero.\n",
    "* When $p$ is not observed by the bank, the marginal investor is identified, such that *average* profits are zero. \n",
    "* Thus credit is extended to types that are unprofitable, $p^*\\leq \\bar{p}$."
   ]
  }
 ],
 "metadata": {
  "kernelspec": {
   "display_name": "Python 3",
   "language": "python",
   "name": "python3"
  },
  "language_info": {
   "codemirror_mode": {
    "name": "ipython",
    "version": 3
   },
   "file_extension": ".py",
   "mimetype": "text/x-python",
   "name": "python",
   "nbconvert_exporter": "python",
   "pygments_lexer": "ipython3",
   "version": "3.7.4"
  }
 },
 "nbformat": 4,
 "nbformat_minor": 4
}
