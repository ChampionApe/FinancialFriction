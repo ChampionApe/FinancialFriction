{
 "cells": [
  {
   "cell_type": "markdown",
   "metadata": {},
   "source": [
    "## Exercise 3.5 The Continuous Investment Model"
   ]
  },
  {
   "cell_type": "markdown",
   "metadata": {},
   "source": [
    "Import packages, classes and settings:"
   ]
  },
  {
   "cell_type": "code",
   "execution_count": 1,
   "metadata": {},
   "outputs": [],
   "source": [
    "import numpy as np\n",
    "import math\n",
    "import itertools\n",
    "from scipy import optimize\n",
    "import scipy.stats as stats\n",
    "import PS1 as func\n",
    "# For plots:\n",
    "import matplotlib.pyplot as plt\n",
    "import matplotlib as mpl\n",
    "%matplotlib inline\n",
    "plt.style.use('seaborn-whitegrid')\n",
    "mpl.style.use('seaborn')\n",
    "prop_cycle = plt.rcParams[\"axes.prop_cycle\"]\n",
    "colors = prop_cycle.by_key()[\"color\"]\n",
    "import ipywidgets as widgets\n",
    "from ipywidgets import interact, interact_manual"
   ]
  },
  {
   "cell_type": "markdown",
   "metadata": {},
   "source": [
    "Initialize model:"
   ]
  },
  {
   "cell_type": "code",
   "execution_count": 2,
   "metadata": {},
   "outputs": [
    {
     "name": "stdout",
     "output_type": "stream",
     "text": [
      "The solution converged.\n"
     ]
    }
   ],
   "source": [
    "Model_1 = func.contInvest() # Model instance for exercise 3.5\n",
    "Model_1.solve() # solve model with default parameter values."
   ]
  },
  {
   "cell_type": "markdown",
   "metadata": {},
   "source": [
    "The plotting facilities for this class are given by:"
   ]
  },
  {
   "cell_type": "code",
   "execution_count": 3,
   "metadata": {},
   "outputs": [
    {
     "data": {
      "text/plain": [
       "{'plot_eu': 'Plots the utility of entrepreneur on a grid of assets when behaving/not behaving.',\n",
       " 'plot_interactive_sol': 'Plots the equilibrium outcome, the unconstrained solution and the binding IC constraint on a grid of assets.'}"
      ]
     },
     "execution_count": 3,
     "metadata": {},
     "output_type": "execute_result"
    }
   ],
   "source": [
    "Model_1.plots"
   ]
  },
  {
   "cell_type": "markdown",
   "metadata": {},
   "source": [
    "### Consider the continuous the continuous investment model with decreasing returns to scale outlined in chapter 3 of JT. The core of the model is as follows:\n",
    "- Let $I\\in[0, \\infty)$ be the level of investment in a given project.\n",
    "- Entrepreneur proposes a project. If successful the project generates income $R(I)$; if not the project generates $0$.\n",
    "- The probability of success depends on the behavior of the entrepreneur. If E behaves $(b)$ then probability of success is $p_H\\in(0,1)$. If E does not behave $(nb)$ then the probability of success is $p_L$ where $0\\leq p_L<p_H$. \n",
    "- The entrepreneur has an incentive to not behave $(nb)$, as he receives $BI$ in private benefits in this case.\n",
    "- The entrepreneur is endowed with A in assets.\n",
    "- No investment project is profitable, if entrepreneur chooses not to behave. \n",
    "- The entrepreneur's technology obeys the following conditions:\n",
    "    1. Positive, but decreasing returns to investments: $R'(I)>0, R''(I)<0$. \n",
    "    2. *Regularity condition 1:* Under perfect information a positive investment level would be optimal, i.e. $R'(0)>1/p_H$. \n",
    "    3. *Regularity condition 2:* Under perfect information a finite level of investment is optiaml, i.e. $ lim_{I\\rightarrow \\infty} R'(I) < 1/p_H$. \n",
    "- Assume perfect competition between lenders.\n",
    "    \n"
   ]
  },
  {
   "cell_type": "markdown",
   "metadata": {},
   "source": [
    "#### The Entrepreneurial problem, part I\n",
    "\n",
    "The first part of the entrepreneur's problem is the discrete choice: $b$ or $nb$. The utility from each choice is given by:\n",
    "\n",
    "$$\\begin{align} \n",
    "u_b &= p_HR_b(I)-A \\\\\n",
    "u_{nb}&= p_LR_b(I)+BI-A.\n",
    "\\end{align}$$\n",
    "\n",
    "The **incentive compatability constraint (IC)** is the threshold when option $b$ is preferred. This is defined as:\n",
    "\n",
    "$$\\begin{align}\n",
    "u_b-u_{nb}\\geq 0 && \\Rightarrow && \\Delta p R_b(I) \\geq BI, \\tag{IC}\n",
    "\\end{align}$$\n",
    "\n",
    "where $\\Delta p \\equiv p_H-p_L$.\n"
   ]
  },
  {
   "cell_type": "markdown",
   "metadata": {},
   "source": [
    "Note, the IC constraint is independent of the level of assets $(A)$. Furthermore, with regularity assumptions 1-2 it looks as follows:"
   ]
  },
  {
   "cell_type": "code",
   "execution_count": 4,
   "metadata": {},
   "outputs": [
    {
     "data": {
      "image/png": "[encoded data removed]",
      "text/plain": [
       "<Figure size 576x432 with 1 Axes>"
      ]
     },
     "metadata": {},
     "output_type": "display_data"
    }
   ],
   "source": [
    "Model_1.plot_eu()"
   ]
  },
  {
   "cell_type": "markdown",
   "metadata": {},
   "source": [
    "#### The lender's problem:\n",
    "\n",
    "The lender faces two problems here: (1) Risk over outcomes and (2) Moral hazard. The moral hazard comes from the entrepreneur who has an incentive to not behave, due to the potential private benfits BI. Note two observations before we set up the lender's problem:\n",
    "\n",
    "1. The project is never profitable if the entrepreneur chooses not to behave. This implies that the **(IC)** constraint must always hold. This means that the contract $R_b(I)$ must at least secure:\n",
    "\n",
    "$$\\begin{align} \n",
    "    R_b^* = \\dfrac{BI}{\\Delta p}.\n",
    "\\end{align}$$\n",
    "\n",
    "2. We assume that lenders operate under perfect competition. Thus in equilibrium the expected profits of a lender is driven to zero. \n",
    "\n",
    "With this in mind define the expected profits from the lender $\\pi_l^e$ as:\n",
    "\n",
    "$$\\begin{align}\n",
    "\\pi_l^e = p_H \\left[R(I)-R_b\\right]-\\left(I-A\\right)\\geq0 \\tag{IR}\n",
    "\\end{align}$$\n",
    "\n",
    "Here we have used: (1) The lender will always make sure that the entrepreneur chooses $b$. Thus we only use $p_H$ as probability of success. (2) The lender offers $I-A$ for the project, as the entrepreneur puts up $A$ himself. The lender thus only enters into any contract, if his **rationality constraint (IR)** holds, i.e. if $\\pi_l^e\\geq0$. \n",
    "\n",
    "\n",
    "#### The Entrepreneurial problem, part II\n",
    "\n",
    "The entrepreneur knows that to land a contract, lender will always offer a contract ensuring that the **(IC)** constraint holds. Thus he only considers the outcomes where he behaves. Using that there are perfect competition for lenders, the entrepreneur chooses an $I$, such that the **(IR)** constraint holds with equality. The utility in this scenario for the entrepreneur is then given by:\n",
    "\n",
    "$$\\begin{align} \n",
    "    u_b &= p_H R_b(I) -A \\\\ \n",
    "        &= p_H R(I)-I,\n",
    "\\end{align}$$ \n",
    "where $p_HR_b(I)$ is substituted for using the **(IR)** constraint. The problem of the entrepreneur that recognizes all of the above is then given by:\n",
    "\n",
    "\n",
    "$$ \\begin{align} \n",
    "    \\max_{I} p_HR(I)-I, && \\text{s.t. }\\overbrace{p_H\\left[R(I)-\\dfrac{BI}{\\Delta p}\\right]}^{\\text{IR constraint s.t. IC constraint}}\\geq I-A\n",
    "\\end{align}$$ \n",
    "\n",
    "The constraint states that the entrepreneur recognizes the IR constraint of the lender **and** that the lender offers an **IC** binding contract. Denote this the **(IR-IC)** constraint.\n",
    "\n",
    "The first order condition characterizing the solution is then given by:\n",
    "\n",
    "$$ \\begin{align} \n",
    "    p_HR'(I) &= 1+\\dfrac{\\mu}{1+\\mu} \\dfrac{p_HB}{\\Delta p}\\geq 1,  \\tag{FOC 1} \n",
    "\\end{align} $$\n",
    "\n",
    "along with the Karush-Kuhn-Tucker conditions\n",
    "\n",
    "$$ \\begin{align} \n",
    "    \\mu\\left[p_H\\left(R(I)-\\dfrac{BI}{\\Delta p}\\right)-(I-A)\\right]=0, && \\mu\\geq 0, &&  p_H\\left(R(I)-\\dfrac{BI}{\\Delta p}\\right)-(I-A)\\geq 0 \\tag{FOC 2 / KKT}\n",
    "\\end{align} $$\n",
    "\n",
    "\n",
    "\n",
    "\n",
    "\n",
    "\n",
    ".\n"
   ]
  },
  {
   "cell_type": "markdown",
   "metadata": {},
   "source": [
    "## Q1: How does investments vary with assets A?\n",
    "\n",
    "Let us start with some comments on the solution: \n",
    "* Note that if the **(IR-IC)** constraint is **not** binding, the shadow-variable $\\mu=0$ and the optimum is given by $p_HR'(I) =1$.\n",
    "* If the **(IR-IC)** constraint **is** binding, the level of $I$ is determined entirely from the **(IR-IC)** constraint.\n",
    "\n",
    "In the following we use the $R(I)$ function $R(I) = I^p$. Note that we require $1>p_H>p_L>0$ and $p\\in(0,1)$."
   ]
  },
  {
   "cell_type": "markdown",
   "metadata": {},
   "source": [
    "The following illustrates the equilibrium investment level on a grid of assets. It is plotted as an *interactive widget* allowing you to play around with a couple of parameter values, and see the effect on the equilibrium. "
   ]
  },
  {
   "cell_type": "code",
   "execution_count": 5,
   "metadata": {},
   "outputs": [
    {
     "data": {
      "application/vnd.jupyter.widget-view+json": {
       "model_id": "406cd87c239845b3a54f19a14f5c922f",
       "version_major": 2,
       "version_minor": 0
      },
      "text/plain": [
       "interactive(children=(SelectionSlider(description='Probability, $p_H$', options=(0.6, 0.61, 0.62, 0.64, 0.65, …"
      ]
     },
     "metadata": {},
     "output_type": "display_data"
    }
   ],
   "source": [
    "Model_1.plot_interactive_sol()"
   ]
  },
  {
   "cell_type": "markdown",
   "metadata": {},
   "source": [
    "**Results/comments:**\n",
    "\n",
    "* If $A$ is sufficiently large $\\Rightarrow \\mu=0$ and $I$ is efficiently chosen.\n",
    "* If not $\\mu>0$ and investments are suboptimally low. The reason for this is the **moral hazard** of the scheme:\n",
    "    * The entrepreneur receives private benefits of $BI$ from not behaving.\n",
    "    * If $A$ is low entrepreneurs have to borrow a lot. \n",
    "    * The private benefits from not behaving increases linearly with I; thus the lender has to offer a contract with linearly increasing benefits $R_b$ to avoid the bad behavior. \n",
    "    * For the lender to avoid negative profits (IR constraint), the price of borrowing is increased. \n",
    "    * The marginal benefits of the loan decreases with the size $(R''(I)<0)$. Thus if the loan is too large the optimal level $I^*$ will not be financed.\n",
    "    "
   ]
  },
  {
   "cell_type": "markdown",
   "metadata": {},
   "source": [
    "## Q2: How does the shadow-value of assets vary with A?\n",
    "\n",
    "Let us start by defining how the optimal choice of investments $(I)$ change with A:\n",
    "\n",
    "* If the IC constraint is not binding (when A is large), I was independent of A. Define the threshold $\\bar{A}$ as the level where the IC constraint is no longer binding.\n",
    "* If the IC constraint is binding, A increases $I$. Define the implicit function $I(A)$. By total differentiation of IC we then have:\n",
    "\n",
    "$$ \\begin{align}\n",
    "    p_H\\left[R'(I) -\\dfrac{B}{\\Delta p}\\right]\\dfrac{dI}{dA} = \\dfrac{dI}{dA}-1, && \\text{for }A<\\bar{A},\n",
    "\\end{align} $$ \n",
    "\n",
    "and otherwise 0. Isolating for $dI/dA$ we then have:\n",
    "\n",
    "$$\\begin{align} \n",
    "    \\dfrac{dI}{dA} = \\dfrac{1}{1-p_HR'(I)+\\frac{p_HB}{\\Delta p}}> 0, && \\text{for }A<\\bar{A}, \\tag{MMIE}\n",
    "\\end{align} $$\n",
    "\n",
    "where the denominator is positive. To see this substitute for (FOC 1) to get\n",
    "\n",
    "$$ \\begin{align}\n",
    "1-p_HR'(I) + \\frac{pH B}{\\Delta p} = \\underbrace{-\\dfrac{\\mu}{1+\\mu}\\dfrac{p_HB}{\\Delta p}}_{\\text{from FOC 1}}+\\dfrac{p_HB}{\\Delta p}  = \\dfrac{p_HB}{\\Delta p}\\dfrac{1}{1+\\mu}>0\n",
    "\\end{align} $$\n",
    "\n",
    "\n",
    "Finally, what is then the shadow value of A? Differentiate the utility function:\n",
    "\n",
    "$$ \\begin{align} \n",
    "    \\dfrac{du_b}{dA} &= \\left[p_HR'(I)-1\\right]\\dfrac{dI}{dA} \\\\ \n",
    "                     &= \\underbrace{\\dfrac{\\mu}{1+\\mu}\\dfrac{p_H B}{\\Delta p}}_{\\text{From FOC 1}}\\dfrac{dI}{dA}. \\tag{SVE}\n",
    "\\end{align} $$"
   ]
  },
  {
   "cell_type": "markdown",
   "metadata": {},
   "source": [
    "**Comments for the results:**\n",
    "\n",
    "* When $A>\\bar{A}: du/dA=0$. When A is large enough the optimal level of investments is ensured; sufficient access to credit.\n",
    "* When $A<\\bar{A}: du/dA>0$. When the entrepreneur is constrained in his investment, an increase in A relaxes credit constraint. \n",
    "* The term $dI/dA$ in (MMIE) is the Marginal Multiplier of Initial Equity. \n",
    "* The term $du/dA$ in (SVE) is the Shadow Value of Equity. In the face of imperfect information and moral hazard, the famous Modigliani and Miller (1963) result that the source of financing does not matter, breaks down. \n"
   ]
  }
 ],
 "metadata": {
  "kernelspec": {
   "display_name": "Python 3",
   "language": "python",
   "name": "python3"
  },
  "language_info": {
   "codemirror_mode": {
    "name": "ipython",
    "version": 3
   },
   "file_extension": ".py",
   "mimetype": "text/x-python",
   "name": "python",
   "nbconvert_exporter": "python",
   "pygments_lexer": "ipython3",
   "version": "3.7.4"
  }
 },
 "nbformat": 4,
 "nbformat_minor": 4
}
