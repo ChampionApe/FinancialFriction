{
 "cells": [
  {
   "cell_type": "markdown",
   "metadata": {
    "slideshow": {
     "slide_type": "slide"
    }
   },
   "source": [
    "# Exercise 13.1 JT: Improved governance"
   ]
  },
  {
   "cell_type": "markdown",
   "metadata": {
    "slideshow": {
     "slide_type": "slide"
    }
   },
   "source": [
    "The setup in this exercise:\n",
    "\n",
    "* Two period model, $t=0,1$.\n",
    "\n",
    "* Continuum of entrepreneurs with initial wealth $(A)$ distributed with the CDF $G(A)$ with support on $[0,I]$.\n",
    "\n",
    "* At time $t=0$: Entrepreneurs can invest $I$ and borrow $(I-A)$ or invest in other firms.\n",
    "\n",
    "* Entrepreneurs are risk neutral and thus have utility $u_e=c_0+c_1$.\n",
    "\n",
    "* As before: Receive $R$ is investment is successful, with probability $p_H$ if entrepreneur behaves or $p_L$ if he shirks (misbehaves). Shirking yields private benefits of $B$.\n",
    "\n",
    "* Now add consumers: Behavior results in an increasing savings function $S(r)$, with $S(r)=0$ for $r<0$.\n"
   ]
  },
  {
   "cell_type": "markdown",
   "metadata": {
    "slideshow": {
     "slide_type": "slide"
    }
   },
   "source": [
    "## Q1: When are projects financed?"
   ]
  },
  {
   "cell_type": "markdown",
   "metadata": {
    "slideshow": {
     "slide_type": "slide"
    }
   },
   "source": [
    "Consider the entrepreneur again (similar to the exercises above): \n",
    "\n",
    "* He behaves if (IC) holds:\n",
    "\n",
    "$$\\begin{align}\n",
    "    (\\Delta p)R_b\\geq B. \\tag{IC}\n",
    "\\end{align}$$\n",
    "\n",
    "* If (IC) holds profits are given by:\n",
    "\n",
    "$$\\begin{align}\n",
    "    p_H\\left(R-\\dfrac{B}{\\Delta p}\\right). \\tag{IC, $\\pi$}\n",
    "\\end{align}$$\n",
    "\n",
    "* Lenders will finance project as long as profits are larger than alternative cost:\n",
    "\n",
    "$$\\begin{align}\n",
    "    (1+r)(I-A)\\leq p_H\\left(R-\\dfrac{B}{\\Delta p}\\right), \\tag{IR}\n",
    "\\end{align}$$\n",
    "\n",
    "where the LHS is the profit from saving (alternative cost w. rent r) and the RHS is the profit from investing with a loan contract such that the (IC) constraint holds with equality.\n",
    "\n",
    "\n",
    "* As we saw earlier the solution depends on the level $A$. All $A>A^*$ such that (IR) holds are financed."
   ]
  },
  {
   "cell_type": "markdown",
   "metadata": {
    "slideshow": {
     "slide_type": "slide"
    }
   },
   "source": [
    "## Q2: Give the expression determining the interest rate r. How does it change if investor protection improves (interpreted as fall in B)?"
   ]
  },
  {
   "cell_type": "markdown",
   "metadata": {
    "slideshow": {
     "slide_type": "slide"
    }
   },
   "source": [
    "The **supply** side of the financial market consists of consumers with savings function $S(r)$ and entrepreneurs who do not get extended credit to carry out the project, i.e. all $A<A^*$. Thus:\n",
    "\n",
    "$$\\begin{align}\n",
    "    \\tilde{S}(r) = S(r)+\\int_0^{A^*(r)}A\\mbox{ }dG(A)\n",
    "\\end{align}$$\n",
    "\n",
    "The **demand** side of the financial market consists of entrepreneurs with $A\\geq A^*$:\n",
    "\n",
    "$$\\begin{align}\n",
    "    D(r) = \\int_{A^*(r)}^I (I-A)\\mbox{ }dG(A)\n",
    "\\end{align}$$\n",
    "\n",
    "\n",
    "Equilibrium balances demand and supply, i.e. $D(r)=\\tilde{S}(r)$.\n"
   ]
  },
  {
   "cell_type": "markdown",
   "metadata": {
    "slideshow": {
     "slide_type": "slide"
    }
   },
   "source": [
    "**Investor protection improves:** ($B$ falls)\n",
    "\n",
    "* Motive for not behaving drops for all entrepreneurs. Thus entrepreneurs that were before marginally unprofitable to invest in, now increase the *pledgeable income* they can promise investors. In other words; the IC constraint is easier to satisfy, $R_b$ is lower.\n",
    "\n",
    "* This lowers the threshold $A^*$, i.e. more entrepreneurs are extended credit. Demand increases.\n",
    "\n",
    "* For supply to increase and adjust to the higher demand, the interest rate increaes. \n"
   ]
  },
  {
   "cell_type": "markdown",
   "metadata": {
    "slideshow": {
     "slide_type": "slide"
    }
   },
   "source": [
    "\n",
    "\n",
    "**An extra comment on the model, The balance-sheet channel:**\n",
    "Note that in this model, a marginal change in r has the effect on supply:\n",
    "\n",
    "$$\\begin{align}\n",
    "    S'(r)+A^*(r)g(A^*(r))\\dfrac{\\partial A^*(r)}{\\partial r}>0.\n",
    "\\end{align}$$\n",
    "If $r$ increaess, less investment projects are profitable $\\Rightarrow$ supply increases. The effet on demand is given by \n",
    "\n",
    "$$\\begin{align}\n",
    "    -(I-A^*(r))dg(A^*(r))\\leq 0\n",
    "\\end{align}$$\n",
    "\n",
    "The implication is that *shocks that shift demand upwards (downwards) and supply downwards (upwards) can lead to large fluctuations in investment, without significant changes in the interest rate (r)*. Large fluctuations in investment, but small changes in r, is a stylized fact; something that we actually observe."
   ]
  }
 ],
 "metadata": {
  "kernelspec": {
   "display_name": "Python 3",
   "language": "python",
   "name": "python3"
  },
  "language_info": {
   "codemirror_mode": {
    "name": "ipython",
    "version": 3
   },
   "file_extension": ".py",
   "mimetype": "text/x-python",
   "name": "python",
   "nbconvert_exporter": "python",
   "pygments_lexer": "ipython3",
   "version": "3.7.4"
  }
 },
 "nbformat": 4,
 "nbformat_minor": 4
}
