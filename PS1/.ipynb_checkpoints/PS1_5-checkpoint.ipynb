{
 "cells": [
  {
   "cell_type": "markdown",
   "metadata": {
    "slideshow": {
     "slide_type": "slide"
    }
   },
   "source": [
    "# Exercise from PS: Adverse selection with heterogenous ability"
   ]
  },
  {
   "cell_type": "markdown",
   "metadata": {
    "slideshow": {
     "slide_type": "slide"
    }
   },
   "source": [
    "## The setup:\n",
    "\n",
    "* Continuum of risk-neutral entrepreneurs (same initial $A$)\n",
    "\n",
    "* Investment cost of cost $I$ (where $I>A$) yields $R$ in return w. probability $p$. Otherwise $0$ return.\n",
    "\n",
    "* Agents differ in the probability of success $p$. Is distributed on $[0,1]$ according to the pdf function $f(p_i)$. (As usual $F(p)$ is the share of agents w. $p_i\\leq p$. $f(p)$ is the marginal change in that probability around $p_i=p$.)\n",
    "\n",
    "* Total supply of loanable funds is simply presented by the increasing function $S(r)$. \n",
    "\n",
    "* This $S(r)$ is supplied by a competetive market (e.g. banks).\n",
    "\n",
    "* Assume perfect information.\n",
    "\n",
    "* Compared to before: No assumption of private benefits from not behaving."
   ]
  },
  {
   "cell_type": "markdown",
   "metadata": {
    "slideshow": {
     "slide_type": "slide"
    }
   },
   "source": [
    "## Q1: Individual rationality constraint, given that the agent has the choice between investment $I$ or depositing $A$. "
   ]
  },
  {
   "cell_type": "markdown",
   "metadata": {
    "slideshow": {
     "slide_type": "slide"
    }
   },
   "source": [
    "This is straightforwardly given by:\n",
    "\n",
    "$$\\begin{align}\n",
    "    p(R-R_b(p)) \\geq (1+r)A \\tag{IR}\n",
    "\\end{align}$$\n",
    "\n",
    "Note that we assume that the payment $R_b$ may depend on $p$, as we assume **perfect information** for now. Note here:\n",
    "\n",
    "* The LHS denotes profits from the investments after paying $R_b(p)$ on loan if successful. Otherwise zero. \n",
    "\n",
    "* The RHS denotes the value of depositing $A$ at interest rate $r$."
   ]
  },
  {
   "cell_type": "markdown",
   "metadata": {
    "slideshow": {
     "slide_type": "slide"
    }
   },
   "source": [
    "## Q2: Write equations determining the riskless rate $r$, the identity of the marginal investor, and the zero (marginal) profit for the bank."
   ]
  },
  {
   "cell_type": "markdown",
   "metadata": {
    "slideshow": {
     "slide_type": "slide"
    }
   },
   "source": [
    "Let us start by imposing **zero profits** for the banks:\n",
    "\n",
    "$$ \\begin{align}\n",
    "pR_b(p) = (1+r)(I-A), && \\forall p \\tag{ZP}\n",
    "\\end{align}$$\n",
    "\n",
    "where $pR_b(p)$ is the payment if the project is successful, and the cost is the alternative cost of the loan: $(1+r)(I-A)$. Denote for now $B\\equiv I-A$ the loan given by the bank. Note once again that the perfect information assumption implies that the zero profits hold for all $p$. "
   ]
  },
  {
   "cell_type": "markdown",
   "metadata": {
    "slideshow": {
     "slide_type": "slide"
    }
   },
   "source": [
    "The **marginal investor** is given by the $\\bar{p}$, where the IR constraint exactly holds. Imposing the zero profits condition we then have:\n",
    "\n",
    "$$\\begin{align} \n",
    "  \\bar{p}R-\\underbrace{(1+r)(I-A)}_{\\equiv \\bar{p}R_b(\\bar{p})\\text{ from (ZP)}}=(1+r)A && \\Rightarrow && \\bar{p}(r) = \\dfrac{1+r}{R}I\n",
    "\\end{align}$$"
   ]
  },
  {
   "cell_type": "markdown",
   "metadata": {
    "slideshow": {
     "slide_type": "slide"
    }
   },
   "source": [
    "Finally the **riskless rate (r)** (it is riskless, due to the perfect information assumption) is determined by the equilibrium condition; i.e. that demand equals supply. With the threshold $\\bar{p}$ all entrepreneurs who have a larger probability of success than the level $\\bar{p}$, where profits are zero and (IR) holds with equality.\n",
    "\n",
    "Recall that $f(p)$ denoted the distribution of the entrepreneurs. Thus demand for credit is extended to all entrepreneurs with $p\\geq \\bar{p}$, or:\n",
    "\n",
    "$$\\begin{align}\n",
    "    D(r) = \\int_{\\bar{p}(r)}^1(I-A)f(p)\\mbox{ }dp\n",
    "\\end{align}$$\n",
    "\n",
    "Supply is given by the *aggregate supply function* $S(r)$, as well as the initial wealth $(A)$ from the entrepreneurs who do not obtain credit to carry out their investment. Define this new *total* supply function $\\tilde{S}(r)$:\n",
    "\n",
    "$$\\begin{align}\n",
    "    \\tilde{S}(r) = S(r) + \\int_0^{\\bar{p}(r)} A f(p)\\mbox{ }dp\n",
    "\\end{align}$$"
   ]
  },
  {
   "cell_type": "markdown",
   "metadata": {
    "slideshow": {
     "slide_type": "slide"
    }
   },
   "source": [
    "## Q3: Confirm that only projects with positive net present value are carried out."
   ]
  },
  {
   "cell_type": "markdown",
   "metadata": {
    "slideshow": {
     "slide_type": "slide"
    }
   },
   "source": [
    "This is given, as banks have a zero profits condition, and entrepreneurs have the IR condition."
   ]
  },
  {
   "cell_type": "markdown",
   "metadata": {
    "slideshow": {
     "slide_type": "slide"
    }
   },
   "source": [
    "## Q4: Assume p is not observable. Compute equilibrium lending contract, the idendity of the marginal investor and show that there is overinvestment."
   ]
  },
  {
   "cell_type": "markdown",
   "metadata": {
    "slideshow": {
     "slide_type": "slide"
    }
   },
   "source": [
    "Now that the banks cannot observe $p$, they cannot make the contracts contingent on $p$. Thus they can only propose one contract, offering $R_b^*$ if the project is successful. Let $p^*$ denote the marginal investor now. From the IR constraint (with equality) we get:\n",
    "\n",
    "$$\\begin{align} \n",
    "    p^*(R-R^*_b)=(1+r)A \\tag{IR*}\n",
    "\\end{align}$$\n",
    "\n",
    "Zero profits for the bank:\n",
    "\n",
    "$$\\begin{align}\n",
    "    \\int_{p^*}^1 p R_b^*f(p)\\mbox{ }dp = \\left(1- F(p^*)\\right)(1+r)(I-A). \n",
    "\\end{align}$$\n",
    "\n",
    "The LHS gives the payout to successful projects. The RHS is the alternative cost of the loan contracts. Note that $1-F(p^*)$ is the share of entrepreneurs with $p\\geq p^*$. \n"
   ]
  },
  {
   "cell_type": "markdown",
   "metadata": {
    "slideshow": {
     "slide_type": "slide"
    }
   },
   "source": [
    "Note that we can define this as the **conditional expected value**:\n",
    "\n",
    "$$\\begin{align}\n",
    "    \\dfrac{\\int_{p^*}^1 p R_b^*f(p)\\mbox{ }dp}{1- F(p^*)} \\equiv R_b^* \\mathbb{E}\\left[p|p\\geq p^*\\right] = (1+r)(I-A).  \\tag{ZP*}\n",
    "\\end{align}$$\n",
    "\n",
    "Combining the zero profits, and the marginal investor identity we then have:\n",
    "\n",
    "$$\\begin{align}\n",
    "        (1+r)A&= p^*R-p^*R_b^* \\\\\n",
    "              &= p^*R-R_b^* \\mathbb{E}\\left[p|p\\geq p^*\\right] \\dfrac{p^*}{\\mathbb{E}\\left[p|p\\geq p^*\\right]} \\\\ \n",
    "              &= p^*R-(1+r)*(I-A)*\\dfrac{p^*}{\\mathbb{E}\\left[p|p\\geq p^*\\right]}\n",
    "\\end{align}$$\n",
    "\n",
    "where the last line uses $(IR^*)$."
   ]
  },
  {
   "cell_type": "markdown",
   "metadata": {
    "slideshow": {
     "slide_type": "slide"
    }
   },
   "source": [
    "Rearranging this expression we get:\n",
    "\n",
    "$$\\begin{align}\n",
    "    p^*R = I (1+r)\\dfrac{p^*}{\\mathbb{E}\\left[p|p\\geq p^*\\right]}+A(1+r)\\left[1-\\dfrac{p^*}{\\mathbb{E}\\left[p|p\\geq p^*\\right]}\\right]\\leq (1+r)I \\tag{Marginal*}\n",
    "\\end{align}$$\n",
    "\n",
    "\n",
    "The RHS is a linear combination of $(1+r)I$ and $(1+r)A$. Compared to this the marginal investor was defined by $\\bar{p}R=(1+r)I$ previously. As $I>A$ this establishes the inequality in (Marginal$^*$). Finally this entails directly that $p^*\\leq \\bar{p}$.\n",
    "\n",
    "This inequality entails **overinvestment**:\n",
    "\n",
    "* When $p$ is observed by the bank, the marginal investor is identified, such that *marginal* profits are zero.\n",
    "\n",
    "* When $p$ is not observed by the bank, the marginal investor is identified, such that *average* profits are zero. \n",
    "\n",
    "* Thus credit is extended to types that are unprofitable, $p^*\\leq \\bar{p}$."
   ]
  }
 ],
 "metadata": {
  "kernelspec": {
   "display_name": "Python 3",
   "language": "python",
   "name": "python3"
  },
  "language_info": {
   "codemirror_mode": {
    "name": "ipython",
    "version": 3
   },
   "file_extension": ".py",
   "mimetype": "text/x-python",
   "name": "python",
   "nbconvert_exporter": "python",
   "pygments_lexer": "ipython3",
   "version": "3.7.4"
  }
 },
 "nbformat": 4,
 "nbformat_minor": 4
}
